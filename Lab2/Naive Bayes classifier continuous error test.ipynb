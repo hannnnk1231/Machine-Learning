{
 "cells": [
  {
   "cell_type": "code",
   "execution_count": 1,
   "metadata": {},
   "outputs": [],
   "source": [
    "import struct\n",
    "import numpy as np\n",
    "import matplotlib.pyplot as plt\n",
    "from math import sqrt,pi"
   ]
  },
  {
   "cell_type": "code",
   "execution_count": 2,
   "metadata": {},
   "outputs": [],
   "source": [
    "def print_result(posterior,ans):\n",
    "    print('Postirior (in log scale):')\n",
    "    for i in range(10):\n",
    "        print(i,': ',posterior[i])\n",
    "    print('Prediction: {}, Ans: {}\\n'.format(np.argmin(posterior),int(ans)))"
   ]
  },
  {
   "cell_type": "code",
   "execution_count": 3,
   "metadata": {},
   "outputs": [],
   "source": [
    "def print_imagination_continuous(mean):\n",
    "    print('Imagination of numbers in Bayesian classifier:\\n')\n",
    "    for i in range(10):\n",
    "        print(i,':')\n",
    "        for p in range(28*28):\n",
    "            if mean[i][p]<128:\n",
    "                print('0', end=' ')\n",
    "            else:\n",
    "                print('1', end=' ')\n",
    "            if p%28==27:\n",
    "                print('')\n",
    "        print('')"
   ]
  },
  {
   "cell_type": "code",
   "execution_count": 4,
   "metadata": {},
   "outputs": [],
   "source": [
    "def print_imagination(train_result):\n",
    "    print('Imagination of numbers in Bayesian classifier:\\n')\n",
    "    for i in range(10):\n",
    "        print(i,':')\n",
    "        for p in range(28*28):\n",
    "            no=yes=0\n",
    "            for j in range(16):\n",
    "                if(train_result[i][p][j]!=0):\n",
    "                    no+=train_result[i][p][j]\n",
    "                else:\n",
    "                    no+=0.0001/train_label_count[i]\n",
    "            for j in range(16,32):\n",
    "                if(train_result[i][p][j]!=0):\n",
    "                    yes+=train_result[i][p][j]\n",
    "                else:\n",
    "                    yes+=0.0001/train_label_count[i]\n",
    "            if no>yes:\n",
    "                print('0', end=' ')\n",
    "            else:\n",
    "                print('1', end=' ')\n",
    "            if p%28==27:\n",
    "                print('')\n",
    "        print('')"
   ]
  },
  {
   "cell_type": "code",
   "execution_count": 5,
   "metadata": {},
   "outputs": [],
   "source": [
    "def test_continuous(mean,varience,N):\n",
    "    error=0\n",
    "    for i in range(N):\n",
    "        posterior=np.copy(prior)\n",
    "        for l in range(10):\n",
    "            for p in range(28*28):\n",
    "                posterior[l]+=np.log(1/np.sqrt(2*pi*varience[l][p]))-(((test_image[i][p]-mean[l][p])**2)/(2*varience[l][p]))-np.log(train_label_count[l])\n",
    "        #posterior/=np.sum(posterior)\n",
    "        #print_result(posterior,test_label[i])\n",
    "        if(np.argmax(posterior)!=test_label[i]):\n",
    "            error+=1\n",
    "    #print_imagination_continuous(mean)\n",
    "    #print('Error rate: ',float(error/N))\n",
    "    return float(error/N)"
   ]
  },
  {
   "cell_type": "code",
   "execution_count": 6,
   "metadata": {},
   "outputs": [],
   "source": [
    "def train_continuous(N,var):\n",
    "    mean=np.zeros((10,28*28))\n",
    "    varience=np.zeros((10,28*28))\n",
    "    for i in range(N):\n",
    "        for p in range(28*28):\n",
    "            mean[int(train_label[i])][p]+=train_image[i][p]\n",
    "            varience[int(train_label[i])][p]+=train_image[i][p]**2\n",
    "    for l in range(10):\n",
    "        mean[l]=mean[l]/train_label_count[l]\n",
    "        varience[l]/=train_label_count[l]\n",
    "        varience[l]-=mean[l]**2\n",
    "        for p in range(28*28):\n",
    "            if(varience[l][p]==0):\n",
    "                varience[l][p]=var**2\n",
    "    return mean, varience"
   ]
  },
  {
   "cell_type": "code",
   "execution_count": 7,
   "metadata": {},
   "outputs": [],
   "source": [
    "def test_discrete(train_result,N):\n",
    "    error=0\n",
    "    for i in range(N):\n",
    "        posterior=np.copy(prior)\n",
    "        for label in range(10):\n",
    "            for p in range(28*28):\n",
    "                if(train_result[label][p][int(test_image[i][p]//8)]!=0):\n",
    "                    posterior[label]+=np.log(train_result[label][p][int(test_image[i][p]//8)])\n",
    "                else:\n",
    "                    posterior[label]+=np.log(0.0001/train_label_count[label])\n",
    "        posterior=posterior/np.sum(posterior)\n",
    "        print_result(posterior,test_label[i])\n",
    "        if(np.argmin(posterior)!=test_label[i]):\n",
    "            error+=1\n",
    "    print_imagination(train_result)\n",
    "    print('Error rate: ',float(error/N))"
   ]
  },
  {
   "cell_type": "code",
   "execution_count": 8,
   "metadata": {},
   "outputs": [],
   "source": [
    "def train_discrete(N):\n",
    "    image_bin_count=np.zeros((10,28*28,32))\n",
    "    probability=np.zeros((10,28*28,32))\n",
    "    for i in range(N):\n",
    "        if(i%10000==0):\n",
    "            print(i,' images has trained.')\n",
    "        for p in range(28*28):\n",
    "            image_bin_count[int(train_label[i])][p][int(train_image[i][p]//8)]+=1\n",
    "    for label in range(10):\n",
    "        probability[label]=image_bin_count[label]/train_label_count[label]\n",
    "    return probability"
   ]
  },
  {
   "cell_type": "code",
   "execution_count": 9,
   "metadata": {},
   "outputs": [],
   "source": [
    "def idx3_decode(file):\n",
    "    data=open(file, 'rb').read()\n",
    "    # > for Big-endian, iiii for 4 integers, each size=4\n",
    "    fmt='>iiii'\n",
    "    offset=0\n",
    "    magic_number, image_numbers, height, width=struct.unpack_from(fmt,data,offset)\n",
    "    image_size=height*width\n",
    "    offset+=struct.calcsize(fmt)\n",
    "    # B for unsigned byte, size=1\n",
    "    fmt='>'+str(image_size)+'B'\n",
    "    images=np.empty((image_numbers,height*width))\n",
    "    for i in range(image_numbers):\n",
    "        images[i]=np.array(struct.unpack_from(fmt,data,offset)).reshape((height*width))\n",
    "        offset+=struct.calcsize(fmt)\n",
    "    return images,image_numbers"
   ]
  },
  {
   "cell_type": "code",
   "execution_count": 10,
   "metadata": {},
   "outputs": [],
   "source": [
    "def idx1_decode(file):\n",
    "    data=open(file, 'rb').read()\n",
    "    # > for Big-endian, ii for 2 integers, each size=4\n",
    "    fmt='>ii'\n",
    "    offset=0\n",
    "    magic_number, label_numbers=struct.unpack_from(fmt,data,offset)\n",
    "    offset+=struct.calcsize(fmt)\n",
    "    # B for unsigned byte, size=1\n",
    "    fmt='>B'\n",
    "    labels=np.empty(label_numbers)\n",
    "    for i in range(label_numbers):\n",
    "        labels[i]=struct.unpack_from(fmt,data,offset)[0]\n",
    "        offset+=struct.calcsize(fmt)\n",
    "    return labels,label_numbers"
   ]
  },
  {
   "cell_type": "code",
   "execution_count": 11,
   "metadata": {},
   "outputs": [],
   "source": [
    "train_image='train-images.idx3-ubyte'\n",
    "train_label='train-labels.idx1-ubyte'\n",
    "test_image='t10k-images.idx3-ubyte'\n",
    "test_label='t10k-labels.idx1-ubyte'"
   ]
  },
  {
   "cell_type": "code",
   "execution_count": 12,
   "metadata": {},
   "outputs": [],
   "source": [
    "train_image,train_image_number=idx3_decode(train_image)\n",
    "test_image,test_image_number=idx3_decode(test_image)\n",
    "train_label,train_label_number=idx1_decode(train_label)\n",
    "test_label,test_label_number=idx1_decode(test_label)"
   ]
  },
  {
   "cell_type": "code",
   "execution_count": 13,
   "metadata": {},
   "outputs": [
    {
     "data": {
      "text/plain": [
       "array([5923., 6742., 5958., 6131., 5842., 5421., 5918., 6265., 5851.,\n",
       "       5949.])"
      ]
     },
     "execution_count": 13,
     "metadata": {},
     "output_type": "execute_result"
    }
   ],
   "source": [
    "train_label_count=np.zeros(10)\n",
    "for label in train_label:\n",
    "    train_label_count[int(label)]+=1\n",
    "train_label_count"
   ]
  },
  {
   "cell_type": "code",
   "execution_count": 14,
   "metadata": {},
   "outputs": [
    {
     "data": {
      "text/plain": [
       "array([-2.31550148, -2.18598795, -2.30960971, -2.28098669, -2.32927136,\n",
       "       -2.40406426, -2.31634601, -2.25936597, -2.32773198, -2.31112142])"
      ]
     },
     "execution_count": 14,
     "metadata": {},
     "output_type": "execute_result"
    }
   ],
   "source": [
    "prior=np.log(train_label_count/train_label_number)\n",
    "prior"
   ]
  },
  {
   "cell_type": "code",
   "execution_count": 16,
   "metadata": {},
   "outputs": [
    {
     "name": "stdout",
     "output_type": "stream",
     "text": [
      "Epoch:  0\n"
     ]
    },
    {
     "name": "stderr",
     "output_type": "stream",
     "text": [
      "/usr/local/lib/python3.6/dist-packages/ipykernel_launcher.py:7: RuntimeWarning: divide by zero encountered in double_scalars\n",
      "  import sys\n",
      "/usr/local/lib/python3.6/dist-packages/ipykernel_launcher.py:7: RuntimeWarning: invalid value encountered in double_scalars\n",
      "  import sys\n"
     ]
    },
    {
     "name": "stdout",
     "output_type": "stream",
     "text": [
      "Epoch:  1\n",
      "Epoch:  2\n",
      "Epoch:  3\n",
      "Epoch:  4\n",
      "Epoch:  5\n",
      "Epoch:  6\n",
      "Epoch:  7\n",
      "Epoch:  8\n",
      "Epoch:  9\n",
      "Epoch:  10\n",
      "Epoch:  11\n",
      "Epoch:  12\n",
      "Epoch:  13\n",
      "Epoch:  14\n",
      "Epoch:  15\n",
      "Epoch:  16\n",
      "Epoch:  17\n",
      "Epoch:  18\n",
      "Epoch:  19\n",
      "Epoch:  20\n",
      "Epoch:  21\n",
      "Epoch:  22\n",
      "Epoch:  23\n",
      "Epoch:  24\n",
      "Epoch:  25\n",
      "Epoch:  26\n",
      "Epoch:  27\n",
      "Epoch:  28\n",
      "Epoch:  29\n",
      "Epoch:  30\n",
      "Epoch:  31\n",
      "Epoch:  32\n",
      "Epoch:  33\n",
      "Epoch:  34\n",
      "Epoch:  35\n",
      "Epoch:  36\n",
      "Epoch:  37\n",
      "Epoch:  38\n",
      "Epoch:  39\n",
      "Epoch:  40\n",
      "Epoch:  41\n",
      "Epoch:  42\n",
      "Epoch:  43\n",
      "Epoch:  44\n",
      "Epoch:  45\n",
      "Epoch:  46\n",
      "Epoch:  47\n",
      "Epoch:  48\n",
      "Epoch:  49\n",
      "Epoch:  50\n",
      "Epoch:  51\n",
      "Epoch:  52\n",
      "Epoch:  53\n",
      "Epoch:  54\n",
      "Epoch:  55\n",
      "Epoch:  56\n",
      "Epoch:  57\n",
      "Epoch:  58\n",
      "Epoch:  59\n",
      "Epoch:  60\n",
      "Epoch:  61\n",
      "Epoch:  62\n",
      "Epoch:  63\n",
      "Epoch:  64\n",
      "Epoch:  65\n",
      "Epoch:  66\n",
      "Epoch:  67\n",
      "Epoch:  68\n",
      "Epoch:  69\n",
      "Epoch:  70\n",
      "Epoch:  71\n",
      "Epoch:  72\n",
      "Epoch:  73\n",
      "Epoch:  74\n",
      "Epoch:  75\n",
      "Epoch:  76\n",
      "Epoch:  77\n",
      "Epoch:  78\n",
      "Epoch:  79\n",
      "Epoch:  80\n",
      "Epoch:  81\n",
      "Epoch:  82\n",
      "Epoch:  83\n",
      "Epoch:  84\n",
      "Epoch:  85\n",
      "Epoch:  86\n",
      "Epoch:  87\n",
      "Epoch:  88\n",
      "Epoch:  89\n",
      "Epoch:  90\n",
      "Epoch:  91\n",
      "Epoch:  92\n",
      "Epoch:  93\n",
      "Epoch:  94\n",
      "Epoch:  95\n",
      "Epoch:  96\n",
      "Epoch:  97\n",
      "Epoch:  98\n",
      "Epoch:  99\n",
      "Epoch:  100\n",
      "Epoch:  101\n",
      "Epoch:  102\n",
      "Epoch:  103\n",
      "Epoch:  104\n",
      "Epoch:  105\n",
      "Epoch:  106\n",
      "Epoch:  107\n",
      "Epoch:  108\n",
      "Epoch:  109\n",
      "Epoch:  110\n",
      "Epoch:  111\n",
      "Epoch:  112\n",
      "Epoch:  113\n",
      "Epoch:  114\n",
      "Epoch:  115\n",
      "Epoch:  116\n",
      "Epoch:  117\n",
      "Epoch:  118\n",
      "Epoch:  119\n",
      "Epoch:  120\n",
      "Epoch:  121\n",
      "Epoch:  122\n",
      "Epoch:  123\n",
      "Epoch:  124\n",
      "Epoch:  125\n",
      "Epoch:  126\n",
      "Epoch:  127\n",
      "Epoch:  128\n",
      "Epoch:  129\n",
      "Epoch:  130\n",
      "Epoch:  131\n",
      "Epoch:  132\n",
      "Epoch:  133\n",
      "Epoch:  134\n",
      "Epoch:  135\n",
      "Epoch:  136\n",
      "Epoch:  137\n",
      "Epoch:  138\n",
      "Epoch:  139\n",
      "Epoch:  140\n",
      "Epoch:  141\n",
      "Epoch:  142\n",
      "Epoch:  143\n",
      "Epoch:  144\n",
      "Epoch:  145\n",
      "Epoch:  146\n",
      "Epoch:  147\n",
      "Epoch:  148\n",
      "Epoch:  149\n",
      "Epoch:  150\n",
      "Epoch:  151\n",
      "Epoch:  152\n",
      "Epoch:  153\n",
      "Epoch:  154\n",
      "Epoch:  155\n",
      "Epoch:  156\n",
      "Epoch:  157\n",
      "Epoch:  158\n",
      "Epoch:  159\n",
      "Epoch:  160\n",
      "Epoch:  161\n",
      "Epoch:  162\n",
      "Epoch:  163\n",
      "Epoch:  164\n",
      "Epoch:  165\n",
      "Epoch:  166\n",
      "Epoch:  167\n",
      "Epoch:  168\n",
      "Epoch:  169\n",
      "Epoch:  170\n",
      "Epoch:  171\n",
      "Epoch:  172\n",
      "Epoch:  173\n",
      "Epoch:  174\n",
      "Epoch:  175\n",
      "Epoch:  176\n",
      "Epoch:  177\n",
      "Epoch:  178\n",
      "Epoch:  179\n",
      "Epoch:  180\n",
      "Epoch:  181\n",
      "Epoch:  182\n",
      "Epoch:  183\n",
      "Epoch:  184\n",
      "Epoch:  185\n",
      "Epoch:  186\n",
      "Epoch:  187\n",
      "Epoch:  188\n",
      "Epoch:  189\n",
      "Epoch:  190\n",
      "Epoch:  191\n",
      "Epoch:  192\n",
      "Epoch:  193\n",
      "Epoch:  194\n",
      "Epoch:  195\n",
      "Epoch:  196\n",
      "Epoch:  197\n",
      "Epoch:  198\n",
      "Epoch:  199\n",
      "Epoch:  200\n",
      "Epoch:  201\n",
      "Epoch:  202\n",
      "Epoch:  203\n",
      "Epoch:  204\n",
      "Epoch:  205\n",
      "Epoch:  206\n",
      "Epoch:  207\n",
      "Epoch:  208\n",
      "Epoch:  209\n",
      "Epoch:  210\n",
      "Epoch:  211\n",
      "Epoch:  212\n",
      "Epoch:  213\n",
      "Epoch:  214\n",
      "Epoch:  215\n",
      "Epoch:  216\n",
      "Epoch:  217\n",
      "Epoch:  218\n",
      "Epoch:  219\n",
      "Epoch:  220\n",
      "Epoch:  221\n",
      "Epoch:  222\n",
      "Epoch:  223\n",
      "Epoch:  224\n",
      "Epoch:  225\n",
      "Epoch:  226\n",
      "Epoch:  227\n",
      "Epoch:  228\n",
      "Epoch:  229\n",
      "Epoch:  230\n",
      "Epoch:  231\n",
      "Epoch:  232\n",
      "Epoch:  233\n",
      "Epoch:  234\n",
      "Epoch:  235\n",
      "Epoch:  236\n",
      "Epoch:  237\n",
      "Epoch:  238\n",
      "Epoch:  239\n",
      "Epoch:  240\n",
      "Epoch:  241\n",
      "Epoch:  242\n",
      "Epoch:  243\n",
      "Epoch:  244\n",
      "Epoch:  245\n",
      "Epoch:  246\n",
      "Epoch:  247\n",
      "Epoch:  248\n",
      "Epoch:  249\n"
     ]
    }
   ],
   "source": [
    "error=[0 for j in range(250)]\n",
    "for i in range(250):\n",
    "    print('Epoch: ',i)\n",
    "    mean,varience=train_continuous(train_image_number,i)\n",
    "    error[i]=test_continuous(mean,varience,test_image_number)"
   ]
  },
  {
   "cell_type": "code",
   "execution_count": 2,
   "metadata": {},
   "outputs": [
    {
     "ename": "NameError",
     "evalue": "name 'plt' is not defined",
     "output_type": "error",
     "traceback": [
      "\u001b[0;31m---------------------------------------------------------------------------\u001b[0m",
      "\u001b[0;31mNameError\u001b[0m                                 Traceback (most recent call last)",
      "\u001b[0;32m<ipython-input-2-7ede0151c6d2>\u001b[0m in \u001b[0;36m<module>\u001b[0;34m\u001b[0m\n\u001b[1;32m      1\u001b[0m \u001b[0mx\u001b[0m\u001b[0;34m=\u001b[0m\u001b[0mrange\u001b[0m\u001b[0;34m(\u001b[0m\u001b[0;36m250\u001b[0m\u001b[0;34m)\u001b[0m\u001b[0;34m\u001b[0m\u001b[0;34m\u001b[0m\u001b[0m\n\u001b[0;32m----> 2\u001b[0;31m \u001b[0mplt\u001b[0m\u001b[0;34m.\u001b[0m\u001b[0mplot\u001b[0m\u001b[0;34m(\u001b[0m\u001b[0mx\u001b[0m\u001b[0;34m,\u001b[0m\u001b[0merror\u001b[0m\u001b[0;34m,\u001b[0m\u001b[0;34m'b'\u001b[0m\u001b[0;34m)\u001b[0m\u001b[0;34m\u001b[0m\u001b[0;34m\u001b[0m\u001b[0m\n\u001b[0m\u001b[1;32m      3\u001b[0m \u001b[0mplt\u001b[0m\u001b[0;34m.\u001b[0m\u001b[0mshow\u001b[0m\u001b[0;34m(\u001b[0m\u001b[0;34m)\u001b[0m\u001b[0;34m\u001b[0m\u001b[0;34m\u001b[0m\u001b[0m\n",
      "\u001b[0;31mNameError\u001b[0m: name 'plt' is not defined"
     ]
    }
   ],
   "source": [
    "x=range(250)\n",
    "plt.plot(x,error,'b')\n",
    "plt.show()"
   ]
  },
  {
   "cell_type": "code",
   "execution_count": 19,
   "metadata": {},
   "outputs": [
    {
     "data": {
      "text/plain": [
       "45"
      ]
     },
     "execution_count": 19,
     "metadata": {},
     "output_type": "execute_result"
    }
   ],
   "source": [
    "np.argmin(error)"
   ]
  },
  {
   "cell_type": "code",
   "execution_count": 20,
   "metadata": {},
   "outputs": [
    {
     "data": {
      "text/plain": [
       "0.1976"
      ]
     },
     "execution_count": 20,
     "metadata": {},
     "output_type": "execute_result"
    }
   ],
   "source": [
    "error[45]"
   ]
  },
  {
   "cell_type": "code",
   "execution_count": null,
   "metadata": {},
   "outputs": [],
   "source": []
  }
 ],
 "metadata": {
  "kernelspec": {
   "display_name": "Python 3",
   "language": "python",
   "name": "python3"
  },
  "language_info": {
   "codemirror_mode": {
    "name": "ipython",
    "version": 3
   },
   "file_extension": ".py",
   "mimetype": "text/x-python",
   "name": "python",
   "nbconvert_exporter": "python",
   "pygments_lexer": "ipython3",
   "version": "3.6.8"
  }
 },
 "nbformat": 4,
 "nbformat_minor": 2
}
