{
 "cells": [
  {
   "cell_type": "code",
   "execution_count": 18,
   "metadata": {},
   "outputs": [],
   "source": [
    "from math import factorial"
   ]
  },
  {
   "cell_type": "code",
   "execution_count": 25,
   "metadata": {},
   "outputs": [],
   "source": [
    "def online_learning(a,b,cases):\n",
    "    for i in range(len(cases)):\n",
    "        print('case {}: {}'.format(i+1,cases[i]))\n",
    "        num_1=num_0=0\n",
    "        for outcome in cases[i]:\n",
    "            if outcome=='1':\n",
    "                num_1+=1\n",
    "            else:\n",
    "                num_0+=1\n",
    "        N=len(cases[i])\n",
    "        likelihood=(factorial(N)/(factorial(num_1)*factorial(N-num_1))*((num_1/N)**num_1)*(num_0/N)**num_0)\n",
    "        print('Likelihood: {}'.format(likelihood))\n",
    "        print('Beta prior: a = {} b = {}'.format(a,b))\n",
    "        a+=num_1\n",
    "        b+=num_0\n",
    "        print('Beta posterior: a = {} b = {}\\n'.format(a,b))\n",
    "                "
   ]
  },
  {
   "cell_type": "code",
   "execution_count": 12,
   "metadata": {},
   "outputs": [],
   "source": [
    "def read_test_file(file_path):\n",
    "    cases=[]\n",
    "    with open(file_path) as f:\n",
    "        for x in f:\n",
    "            cases.append(x.strip())\n",
    "    return cases"
   ]
  },
  {
   "cell_type": "code",
   "execution_count": 27,
   "metadata": {},
   "outputs": [
    {
     "name": "stdout",
     "output_type": "stream",
     "text": [
      "File path:testfile.txt\n",
      "a for initial beta prior: 0\n",
      "b for initial beta prior: 0\n"
     ]
    }
   ],
   "source": [
    "file_path=input('File path:')\n",
    "a=int(input('a for initial beta prior: '))\n",
    "b=int(input('b for initial beta prior: '))"
   ]
  },
  {
   "cell_type": "code",
   "execution_count": 13,
   "metadata": {},
   "outputs": [],
   "source": [
    "cases=read_test_file(file_path)"
   ]
  },
  {
   "cell_type": "code",
   "execution_count": 28,
   "metadata": {},
   "outputs": [
    {
     "name": "stdout",
     "output_type": "stream",
     "text": [
      "case 1: 0101010101001011010101\n",
      "Likelihood: 0.16818809509277344\n",
      "Beta prior: a = 0 b = 0\n",
      "Beta posterior: a = 11 b = 11\n",
      "\n",
      "case 2: 0110101\n",
      "Likelihood: 0.29375515303997474\n",
      "Beta prior: a = 11 b = 11\n",
      "Beta posterior: a = 15 b = 14\n",
      "\n",
      "case 3: 010110101101\n",
      "Likelihood: 0.22860542417943364\n",
      "Beta prior: a = 15 b = 14\n",
      "Beta posterior: a = 22 b = 19\n",
      "\n",
      "case 4: 0101101011101011010\n",
      "Likelihood: 0.18286870706509092\n",
      "Beta prior: a = 22 b = 19\n",
      "Beta posterior: a = 33 b = 27\n",
      "\n",
      "case 5: 111101100011110\n",
      "Likelihood: 0.21430705488578314\n",
      "Beta prior: a = 33 b = 27\n",
      "Beta posterior: a = 43 b = 32\n",
      "\n",
      "case 6: 101110111000110\n",
      "Likelihood: 0.20659760529408\n",
      "Beta prior: a = 43 b = 32\n",
      "Beta posterior: a = 52 b = 38\n",
      "\n",
      "case 7: 1010010111\n",
      "Likelihood: 0.25082265600000003\n",
      "Beta prior: a = 52 b = 38\n",
      "Beta posterior: a = 58 b = 42\n",
      "\n",
      "case 8: 11101110110\n",
      "Likelihood: 0.2619678932864457\n",
      "Beta prior: a = 58 b = 42\n",
      "Beta posterior: a = 66 b = 45\n",
      "\n",
      "case 9: 01000111101\n",
      "Likelihood: 0.2360912887150679\n",
      "Beta prior: a = 66 b = 45\n",
      "Beta posterior: a = 72 b = 50\n",
      "\n",
      "case 10: 110100111\n",
      "Likelihood: 0.2731290961743635\n",
      "Beta prior: a = 72 b = 50\n",
      "Beta posterior: a = 78 b = 53\n",
      "\n",
      "case 11: 01101010111\n",
      "Likelihood: 0.24384881449471862\n",
      "Beta prior: a = 78 b = 53\n",
      "Beta posterior: a = 85 b = 57\n",
      "\n"
     ]
    }
   ],
   "source": [
    "online_learning(a,b,cases)"
   ]
  }
 ],
 "metadata": {
  "kernelspec": {
   "display_name": "Python 3",
   "language": "python",
   "name": "python3"
  },
  "language_info": {
   "codemirror_mode": {
    "name": "ipython",
    "version": 3
   },
   "file_extension": ".py",
   "mimetype": "text/x-python",
   "name": "python",
   "nbconvert_exporter": "python",
   "pygments_lexer": "ipython3",
   "version": "3.6.8"
  }
 },
 "nbformat": 4,
 "nbformat_minor": 2
}
