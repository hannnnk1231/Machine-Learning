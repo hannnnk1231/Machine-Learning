{
 "cells": [
  {
   "cell_type": "code",
   "execution_count": 394,
   "metadata": {},
   "outputs": [],
   "source": [
    "import numpy as np\n",
    "import matplotlib.pyplot as plt"
   ]
  },
  {
   "cell_type": "code",
   "execution_count": 395,
   "metadata": {},
   "outputs": [],
   "source": [
    "def gaussian_generator(m, var):\n",
    "    temp = np.sum(np.random.uniform(0,1,12))-6\n",
    "    return m + temp*np.sqrt(var)"
   ]
  },
  {
   "cell_type": "code",
   "execution_count": 396,
   "metadata": {},
   "outputs": [],
   "source": [
    "def get_input():\n",
    "    N = int(input(\"Number of data points: \"))\n",
    "    mx1 = float(input(\"mx1: \"))\n",
    "    vx1 = float(input(\"vx1: \")) \n",
    "    my1 = float(input(\"my1: \"))\n",
    "    vy1 = float(input(\"vy1: \")) \n",
    "    mx2 = float(input(\"mx2: \"))\n",
    "    vx2 = float(input(\"vx2: \")) \n",
    "    my2 = float(input(\"my2: \"))\n",
    "    vy2 = float(input(\"vy2: \")) \n",
    "    return N, mx1, vx1, my1, vy1, mx2, vx2, my2, vy2"
   ]
  },
  {
   "cell_type": "code",
   "execution_count": 397,
   "metadata": {},
   "outputs": [],
   "source": [
    "def print_result(w):\n",
    "    print(\"w:\")\n",
    "    for i in w:\n",
    "        print('{:13.10f}'.format(i))\n",
    "        \n",
    "    print(\"\\nConfusion Matrix:\") \n",
    "    print(\"             Predict cluster 1 Predict cluster 2\")\n",
    "    print(\"Is cluster 1        {}                {}\".format(np.sum(np.dot(D1,np.transpose(w))<0),np.sum(np.dot(D1,np.transpose(w))>0)))\n",
    "    print(\"Is cluster 2        {}                {}\".format(np.sum(np.dot(D2,np.transpose(w))<0),np.sum(np.dot(D2,np.transpose(w))>0)))\n",
    "    print(\"\\nSensitivity (Successfully predict cluster 1): {:.5f}\".format(np.sum(np.dot(D1,np.transpose(w))<0)/N))\n",
    "    print(\"Specificity (Successfully predict cluster 2): {:.5f}\".format(np.sum(np.dot(D2,np.transpose(w))>0)/N))\n",
    "    print(\"\\n----------------------------------------------------\")\n",
    "    "
   ]
  },
  {
   "cell_type": "code",
   "execution_count": 412,
   "metadata": {},
   "outputs": [
    {
     "name": "stdout",
     "output_type": "stream",
     "text": [
      "Number of data points: 50\n",
      "mx1: 2\n",
      "vx1: 4\n",
      "my1: 2\n",
      "vy1: 4\n",
      "mx2: 3\n",
      "vx2: 1\n",
      "my2: 3\n",
      "vy2: 1\n"
     ]
    }
   ],
   "source": [
    "N, mx1, vx1, my1, vy1, mx2, vx2, my2, vy2 = get_input()"
   ]
  },
  {
   "cell_type": "code",
   "execution_count": 413,
   "metadata": {},
   "outputs": [],
   "source": [
    "D1 = []\n",
    "D2 = []\n",
    "for i in range(N):\n",
    "    D1.append([gaussian_generator(mx1,vx1),gaussian_generator(my1,vy1),1])\n",
    "    D2.append([gaussian_generator(mx2,vx2),gaussian_generator(my2,vy2),1])\n",
    "D1 = np.array(D1)\n",
    "D2 = np.array(D2)\n",
    "X = np.concatenate((D1,D2),axis=0)\n",
    "X_transpose = np.transpose(X)\n",
    "label = np.append(np.array([0 for i in range(N)]),np.array([1 for i in range(N)]))"
   ]
  },
  {
   "cell_type": "code",
   "execution_count": 414,
   "metadata": {},
   "outputs": [],
   "source": [
    "# Gradient decent\n",
    "# initial w to any number\n",
    "w_transpose = np.array([0,0,0])\n",
    "while(1):\n",
    "    gradient = np.dot(X_transpose,1/(1+np.exp(-np.dot(w_transpose,X_transpose)))-label)\n",
    "    w_new = w_transpose - 0.001*gradient # 0.001 for steepest descent\n",
    "    # converge\n",
    "    if(np.linalg.norm(w_new-w_transpose)<0.0001):\n",
    "        w_gradient = w_new\n",
    "        break\n",
    "    w_transpose = w_new"
   ]
  },
  {
   "cell_type": "code",
   "execution_count": 415,
   "metadata": {},
   "outputs": [
    {
     "name": "stdout",
     "output_type": "stream",
     "text": [
      "Gradient decent: \n",
      "\n",
      "w:\n",
      " 0.3588114584\n",
      " 0.6112780945\n",
      "-2.6400760602\n",
      "\n",
      "Confusion Matrix:\n",
      "             Predict cluster 1 Predict cluster 2\n",
      "Is cluster 1        33                17\n",
      "Is cluster 2        15                35\n",
      "\n",
      "Sensitivity (Successfully predict cluster 1): 0.66000\n",
      "Specificity (Successfully predict cluster 2): 0.70000\n",
      "\n",
      "----------------------------------------------------\n"
     ]
    }
   ],
   "source": [
    "print(\"Gradient decent: \\n\")\n",
    "print_result(w_gradient)"
   ]
  },
  {
   "cell_type": "code",
   "execution_count": 416,
   "metadata": {},
   "outputs": [],
   "source": [
    "#Newton's method\n",
    "# initial w to any number\n",
    "w_transpose = np.array([0,0,0])\n",
    "D = np.zeros((2*N,2*N))\n",
    "while(1):\n",
    "    for i in range(2*N):\n",
    "        D[i][i] = np.exp(-np.dot(X[i],w_transpose))/(1+np.exp(-np.dot(X[i],w_transpose)))**2\n",
    "    gradient = np.dot(X_transpose,1/(1+np.exp(-np.dot(w_transpose,X_transpose)))-label)\n",
    "    hessian = np.dot(X_transpose,np.dot(D,X))\n",
    "    if (np.linalg.det(hessian)==0):\n",
    "        w_new = w_transpose - 0.001*gradient # 0.001 for steepest descent\n",
    "    else:\n",
    "        w_new = w_transpose - np.dot(np.linalg.inv(hessian),gradient)\n",
    "        \n",
    "    # converge\n",
    "    if(np.linalg.norm(w_new-w_transpose)<0.001):\n",
    "        w_newton = w_new\n",
    "        break\n",
    "    w_transpose = w_new"
   ]
  },
  {
   "cell_type": "code",
   "execution_count": 417,
   "metadata": {},
   "outputs": [
    {
     "name": "stdout",
     "output_type": "stream",
     "text": [
      "Newton's method: \n",
      "\n",
      "w:\n",
      " 0.3661230537\n",
      " 0.6219678130\n",
      "-2.6955171629\n",
      "\n",
      "Confusion Matrix:\n",
      "             Predict cluster 1 Predict cluster 2\n",
      "Is cluster 1        33                17\n",
      "Is cluster 2        15                35\n",
      "\n",
      "Sensitivity (Successfully predict cluster 1): 0.66000\n",
      "Specificity (Successfully predict cluster 2): 0.70000\n",
      "\n",
      "----------------------------------------------------\n"
     ]
    }
   ],
   "source": [
    "print(\"Newton\\'s method: \\n\")\n",
    "print_result(w_newton)"
   ]
  },
  {
   "cell_type": "code",
   "execution_count": 418,
   "metadata": {},
   "outputs": [
    {
     "data": {
      "text/plain": [
       "[<matplotlib.lines.Line2D at 0x1133e5fd0>]"
      ]
     },
     "execution_count": 418,
     "metadata": {},
     "output_type": "execute_result"
    },
    {
     "data": {
      "image/png": "[encoded data removed]",
      "text/plain": [
       "<Figure size 432x288 with 3 Axes>"
      ]
     },
     "metadata": {
      "needs_background": "light"
     },
     "output_type": "display_data"
    }
   ],
   "source": [
    "plt.subplot(131)\n",
    "plt.title(\"Ground truth\")\n",
    "plt.plot(D1[:,0],D1[:,1],'bo')\n",
    "plt.plot(D2[:,0],D2[:,1],'ro')\n",
    "\n",
    "plt.subplot(132)\n",
    "plt.title(\"Gradient descent\")\n",
    "c1=[]\n",
    "c2=[]\n",
    "for i in X:\n",
    "    if(np.dot(i,np.transpose(w_gradient))<0):\n",
    "        c1.append(i)\n",
    "    else:\n",
    "        c2.append(i)\n",
    "c1 = np.array(c1)\n",
    "c2 = np.array(c2)\n",
    "plt.plot(c1[:,0],c1[:,1],'bo')\n",
    "plt.plot(c2[:,0],c2[:,1],'ro')\n",
    "        \n",
    "plt.subplot(133)\n",
    "plt.title(\"Newton\\'s method\")\n",
    "c1=[]\n",
    "c2=[]\n",
    "for i in X:\n",
    "    if(np.dot(i,np.transpose(w_newton))<0):\n",
    "        c1.append(i)\n",
    "    else:\n",
    "        c2.append(i)\n",
    "c1 = np.array(c1)\n",
    "c2 = np.array(c2)\n",
    "plt.plot(c1[:,0],c1[:,1],'bo')\n",
    "plt.plot(c2[:,0],c2[:,1],'ro')"
   ]
  },
  {
   "cell_type": "code",
   "execution_count": null,
   "metadata": {},
   "outputs": [],
   "source": []
  }
 ],
 "metadata": {
  "kernelspec": {
   "display_name": "Python 3",
   "language": "python",
   "name": "python3"
  },
  "language_info": {
   "codemirror_mode": {
    "name": "ipython",
    "version": 3
   },
   "file_extension": ".py",
   "mimetype": "text/x-python",
   "name": "python",
   "nbconvert_exporter": "python",
   "pygments_lexer": "ipython3",
   "version": "3.7.3"
  }
 },
 "nbformat": 4,
 "nbformat_minor": 2
}
