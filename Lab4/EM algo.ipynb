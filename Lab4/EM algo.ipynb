{
 "cells": [
  {
   "cell_type": "code",
   "execution_count": 8,
   "metadata": {},
   "outputs": [],
   "source": [
    "import numpy as np\n",
    "import struct"
   ]
  },
  {
   "cell_type": "code",
   "execution_count": 9,
   "metadata": {},
   "outputs": [],
   "source": [
    "def idx3_decode(file):\n",
    "    data=open(file, 'rb').read()\n",
    "    # > for Big-endian, iiii for 4 integers, each size=4\n",
    "    fmt='>iiii'\n",
    "    offset=0\n",
    "    magic_number, image_numbers, height, width=struct.unpack_from(fmt,data,offset)\n",
    "    image_size=height*width\n",
    "    offset+=struct.calcsize(fmt)\n",
    "    # B for unsigned byte, size=1\n",
    "    fmt='>'+str(image_size)+'B'\n",
    "    images=np.empty((image_numbers,height*width))\n",
    "    for i in range(image_numbers):\n",
    "        images[i]=np.array(struct.unpack_from(fmt,data,offset)).reshape((height*width))\n",
    "        offset+=struct.calcsize(fmt)\n",
    "    return images,image_numbers"
   ]
  },
  {
   "cell_type": "code",
   "execution_count": 110,
   "metadata": {},
   "outputs": [],
   "source": [
    "def idx1_decode(file):\n",
    "    data=open(file, 'rb').read()\n",
    "    # > for Big-endian, ii for 2 integers, each size=4\n",
    "    fmt='>ii'\n",
    "    offset=0\n",
    "    magic_number, label_numbers=struct.unpack_from(fmt,data,offset)\n",
    "    offset+=struct.calcsize(fmt)\n",
    "    # B for unsigned byte, size=1\n",
    "    fmt='>B'\n",
    "    labels=np.empty(label_numbers)\n",
    "    for i in range(label_numbers):\n",
    "        labels[i]=struct.unpack_from(fmt,data,offset)[0]\n",
    "        offset+=struct.calcsize(fmt)\n",
    "    return labels,label_numbers"
   ]
  },
  {
   "cell_type": "code",
   "execution_count": 203,
   "metadata": {},
   "outputs": [],
   "source": [
    "def E_step():\n",
    "    for n in range(60000):\n",
    "        temp = lamda.copy()\n",
    "        for k in range(10):\n",
    "            for d in range(784):\n",
    "                if (X[n,d]==1):\n",
    "                    if(P[d,k]==0):\n",
    "                        temp[k] *= 0.0001\n",
    "                    else: \n",
    "                        temp[k] *= P[d,k]\n",
    "                else:\n",
    "                    if(P[d,k]==1):\n",
    "                        temp[k] *= 0.0001\n",
    "                    else:\n",
    "                        temp[k] *= 1-P[d,k]\n",
    "        for k in range(10):\n",
    "            if(np.sum(temp)==0):\n",
    "                W[n,k] = temp[k]/0.0001\n",
    "            else:\n",
    "                W[n,k] = temp[k]/np.sum(temp)"
   ]
  },
  {
   "cell_type": "code",
   "execution_count": 204,
   "metadata": {},
   "outputs": [],
   "source": [
    "def M_step():\n",
    "    sigma_w = np.sum(W,axis=0)\n",
    "    lamda = sigma_w/60000\n",
    "    for k in range(10):\n",
    "        for d in range(784):\n",
    "            P[d][k] = np.dot(np.transpose(X)[d],np.transpose(W)[k])\n",
    "            if(sigma_w[k]==0):\n",
    "                P[d][k] /= 0.0001\n",
    "            else:\n",
    "                P[d][k] /= sigma_w[k]"
   ]
  },
  {
   "cell_type": "code",
   "execution_count": 205,
   "metadata": {},
   "outputs": [],
   "source": [
    "def print_imagination():\n",
    "    for k in range(10):\n",
    "        print('\\nclass {}:'.format(k))\n",
    "        for d in range(784):\n",
    "            if d%28==0 and d!=0:\n",
    "                print('')\n",
    "            if P[d,k]>0.5:\n",
    "                print('1',end='')\n",
    "            else:\n",
    "                print('0',end='')"
   ]
  },
  {
   "cell_type": "code",
   "execution_count": 206,
   "metadata": {},
   "outputs": [],
   "source": [
    "def print_labeled_imagination(r):\n",
    "    for i,k in enumerate(r):\n",
    "        print('labeled class {}:'.format(i))\n",
    "        for d in range(784):\n",
    "            if d%28==0 and d!=0:\n",
    "                print('')\n",
    "            if P[d,int(k)]>0.5:\n",
    "                print('1',end='')\n",
    "            else:\n",
    "                print('0',end='')\n",
    "        print('\\n')\n",
    "    print(\"\\n----------------------------------------------------\")"
   ]
  },
  {
   "cell_type": "code",
   "execution_count": 207,
   "metadata": {},
   "outputs": [],
   "source": [
    "def confusion(r):\n",
    "    confusion_matrix = np.zeros((10,3))\n",
    "    error = 0\n",
    "    for n in range(60000):\n",
    "        temp = lamda.copy()\n",
    "        for k in range(10):\n",
    "            for d in range(784):\n",
    "                if (X[n,d]==1):\n",
    "                    if(P[d,k]==0):\n",
    "                        temp[k] *= 0.0001\n",
    "                    else: \n",
    "                        temp[k] *= P[d,k]\n",
    "                else:\n",
    "                    if(P[d,k]==1):\n",
    "                        temp[k] *= 0.0001\n",
    "                    else:\n",
    "                        temp[k] *= 1-P[d,k]\n",
    "        if(int(train_label[n])==np.argmax(temp)):\n",
    "            confusion_matrix[int(train_label[n]),0]+=1\n",
    "        else:\n",
    "            confusion_matrix[int(train_label[n]),1]+=1\n",
    "            confusion_matrix[int(np.argmax(temp)),2]+=1\n",
    "    for k in range(10):\n",
    "        print(\"\\nConfusion Matrix:\") \n",
    "        print(\"                Predict number {} Predict not number {}\".format(k))\n",
    "        print(\"Is number {}           {}                {}\".format(k,confusion_matrix[k,0],confusion_matrix[k,1]))\n",
    "        print(\"Isn\\'t number {}       {}                {}\".format(k,confusion_matrix[k,2],60000-np.sum(confusion_matrix[k])))\n",
    "        print(\"\\nSensitivity (Successfully predict cluster 1): {:.5f}\".format(confusion_matrix[k,0]/(confusion_matrix[k,0]+confusion_matrix[k,1])))\n",
    "        print(\"Specificity (Successfully predict cluster 2): {:.5f}\".format((60000-np.sum(confusion_matrix[k]))/(confusion_matrix[k,2]+60000-np.sum(confusion_matrix[k]))))\n",
    "        print(\"\\n----------------------------------------------------\")\n",
    "        error+=confusion_matrix[k,1]+confusion_matrix[k,2]\n",
    "    return error"
   ]
  },
  {
   "cell_type": "code",
   "execution_count": 208,
   "metadata": {},
   "outputs": [],
   "source": [
    "def clustering():\n",
    "    table = np.zeros((10,10))\n",
    "    label_class_relation = np.zeros(10)\n",
    "    for n in range(60000):\n",
    "        temp = lamda.copy()\n",
    "        for k in range(10):\n",
    "            for d in range(784):\n",
    "                if (X[n,d]==1):\n",
    "                    if(P[d,k]==0):\n",
    "                        temp[k] *= 0.0001\n",
    "                    else: \n",
    "                        temp[k] *= P[d,k]\n",
    "                else:\n",
    "                    if(P[d,k]==1):\n",
    "                        temp[k] *= 0.0001\n",
    "                    else:\n",
    "                        temp[k] *= 1-P[d,k]\n",
    "        table[int(train_label[n]),np.argmax(temp)]+=1\n",
    "    for k in range(10):\n",
    "        label_class_relation[k] = np.argmax(table[k])\n",
    "    print_labeled_imagination(label_class_relation)\n",
    "    return confusion(label_class_relation)"
   ]
  },
  {
   "cell_type": "code",
   "execution_count": 209,
   "metadata": {},
   "outputs": [],
   "source": [
    "train_image_path='train-images.idx3-ubyte'\n",
    "train_label_path='train-labels.idx1-ubyte'\n",
    "train_image,train_image_number=idx3_decode(train_image_path)\n",
    "train_label,train_label_number=idx1_decode(train_label_path)\n",
    "train_image = train_image//128"
   ]
  },
  {
   "cell_type": "code",
   "execution_count": 210,
   "metadata": {},
   "outputs": [
    {
     "data": {
      "text/plain": [
       "(60000, 784)"
      ]
     },
     "execution_count": 210,
     "metadata": {},
     "output_type": "execute_result"
    }
   ],
   "source": [
    "train_image.shape"
   ]
  },
  {
   "cell_type": "code",
   "execution_count": 140,
   "metadata": {},
   "outputs": [],
   "source": [
    "X = train_image.copy()\n",
    "lamda = np.full((10,1),0.1,dtype=np.float64) # init prob for every class\n",
    "P = np.random.rand(28*28,10) # init prob for every pixel of every class\n",
    "P_prev = P.copy()\n",
    "W = np.zeros((60000,10)) # init w for every pic for every class "
   ]
  },
  {
   "cell_type": "code",
   "execution_count": null,
   "metadata": {},
   "outputs": [],
   "source": [
    "iteration = 0\n",
    "c = 0\n",
    "while(1):\n",
    "    iteration += 1\n",
    "    E_step()\n",
    "    M_step()\n",
    "    print_imagination()\n",
    "    diff = np.linalg.norm(P-P_prev)\n",
    "    print(\"\\nNo. of Iteration: {}, Difference: {}\".format(iteration, diff))\n",
    "    print(\"\\n----------------------------------------------------\")\n",
    "    if diff < 0.001:\n",
    "        c+=1\n",
    "        if c > 7:\n",
    "            break\n",
    "    else:\n",
    "        c=0\n",
    "    P_prev = P\n",
    "print(\"\\n----------------------------------------------------\")\n",
    "print(\"----------------------------------------------------\")\n",
    "error = clustering()\n",
    "print('Total iteration to coverage: {}'.format(iteration))\n",
    "print('Total error rate: {}'.format(error))"
   ]
  }
 ],
 "metadata": {
  "kernelspec": {
   "display_name": "Python 3",
   "language": "python",
   "name": "python3"
  },
  "language_info": {
   "codemirror_mode": {
    "name": "ipython",
    "version": 3
   },
   "file_extension": ".py",
   "mimetype": "text/x-python",
   "name": "python",
   "nbconvert_exporter": "python",
   "pygments_lexer": "ipython3",
   "version": "3.7.3"
  }
 },
 "nbformat": 4,
 "nbformat_minor": 2
}
