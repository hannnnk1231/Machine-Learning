{
 "cells": [
  {
   "cell_type": "code",
   "execution_count": 2,
   "metadata": {},
   "outputs": [],
   "source": [
    "import imageio\n",
    "import numpy as np\n",
    "import matplotlib.pyplot as plt"
   ]
  },
  {
   "cell_type": "code",
   "execution_count": 3,
   "metadata": {},
   "outputs": [],
   "source": [
    "def rbf_kernel(X,image_number):\n",
    "    sigma_s = -0.02\n",
    "    sigma_c = -0.02\n",
    "    W = np.zeros((10000,10000))\n",
    "    for i in range(10000):\n",
    "        x1 = i//100\n",
    "        y1 = i%100\n",
    "        for j in range(i+1,10000):\n",
    "            x2 = j//100\n",
    "            y2 = j%100\n",
    "            if image_number==1:\n",
    "                w = np.exp(sigma_s*((x1-x2)**2+(y1-y2)**2))*np.exp(sigma_c*(np.linalg.norm(im[x1,y1]-im[x2,y2])**2))\n",
    "            else:\n",
    "                w = np.exp(sigma_s*((x1-x2)**2+(y1-y2)**2))*np.exp(sigma_c*(np.linalg.norm(im2[x1,y1]-im2[x2,y2])**2))\n",
    "            W[i,j] = W[j,i] = w\n",
    "    return W"
   ]
  },
  {
   "cell_type": "code",
   "execution_count": 67,
   "metadata": {},
   "outputs": [],
   "source": [
    "def init(method,k,image_number):\n",
    "    if method == 0:\n",
    "        print('Init method: random')\n",
    "        res = np.zeros(10000)\n",
    "        means = np.random.randint(10000,size=k)\n",
    "    else:\n",
    "        print('Init method: kmeans++')\n",
    "        res = np.zeros(10000)\n",
    "        means = np.zeros(k)\n",
    "        means[0] = np.random.randint(10000)\n",
    "        for i in range(1,k):\n",
    "            dist = np.zeros(10000)\n",
    "            for j in range(10000):\n",
    "                temp = np.zeros(i)\n",
    "                x = j//100\n",
    "                y = j%100\n",
    "                for p in range(i):\n",
    "                    xm = int(means[p]//100)\n",
    "                    ym = int(means[p]%100)\n",
    "                    if image_number==1:\n",
    "                        temp[p] = (xm-x)**2+(ym-y)**2+np.linalg.norm(im[xm,ym]-im[x,y])**2\n",
    "                    else:\n",
    "                        temp[p] = (xm-x)**2+(ym-y)**2+np.linalg.norm(im2[xm,ym]-im2[x,y])**2\n",
    "                dist[j] = np.min(temp)\n",
    "            dist = dist/dist.sum()\n",
    "            means[i] = np.random.choice(10000,1,p=dist)\n",
    "        \n",
    "    for i in range(10000):\n",
    "        temp = np.zeros(k)\n",
    "        x=i//100\n",
    "        y=i%100\n",
    "        for j in range(k):\n",
    "            xm = int(means[j]//100)\n",
    "            ym = int(means[j]%100)\n",
    "            if image_number==1:\n",
    "                temp[j] = (xm-x)**2+(ym-y)**2+np.linalg.norm(im[xm,ym]-im[x,y])**2\n",
    "            else:\n",
    "                temp[j] = (xm-x)**2+(ym-y)**2+np.linalg.norm(im2[xm,ym]-im2[x,y])**2\n",
    "        res[i] = np.argmin(temp)\n",
    "        \n",
    "    means_RGB = np.zeros((k,4),dtype=np.int)\n",
    "    for i in range(k):\n",
    "        xm = int(means[i]//100)\n",
    "        ym = int(means[i]%100)\n",
    "        if image_number == 1:\n",
    "            means_RGB[i] = [means[i],im[xm,ym][0],im[xm,ym][1],im[xm,ym][2]]\n",
    "        else:\n",
    "            means_RGB[i] = [means[i],im2[xm,ym][0],im2[xm,ym][1],im2[xm,ym][2]]\n",
    "    return res, means_RGB"
   ]
  },
  {
   "cell_type": "code",
   "execution_count": 65,
   "metadata": {},
   "outputs": [],
   "source": [
    "def classify(U,means,k,image_number):\n",
    "    res = np.zeros(10000)\n",
    "    for i in range(10000):\n",
    "        x=i//100\n",
    "        y=i%100\n",
    "        temp = np.zeros(k)\n",
    "        for j in range(k):\n",
    "            xm = int(means[j][0]//100)\n",
    "            ym = int(means[j][0]%100)\n",
    "            if image_number==1:\n",
    "                temp[j] = (xm-x)**2+(ym-y)**2+np.linalg.norm(means[j][1:]-im[x,y])**2\n",
    "            else:\n",
    "                temp[j] = (xm-x)**2+(ym-y)**2+np.linalg.norm(means[j][1:]-im2[x,y])**2\n",
    "        res[i] = np.argmin(temp)\n",
    "    return res"
   ]
  },
  {
   "cell_type": "code",
   "execution_count": 63,
   "metadata": {},
   "outputs": [],
   "source": [
    "def update(res,k,image_number):\n",
    "    means = np.zeros((k,5))\n",
    "    count = np.zeros(k)\n",
    "    for i in range(10000):\n",
    "        x=i//100\n",
    "        y=i%100\n",
    "        cluster = int(res[i])\n",
    "        count[cluster] += 1\n",
    "        means[cluster][0] += x\n",
    "        means[cluster][1] += y\n",
    "        if image_number==1:\n",
    "            means[cluster][2] += im[x][y][0]\n",
    "            means[cluster][3] += im[x][y][1]\n",
    "            means[cluster][4] += im[x][y][2]\n",
    "        else:\n",
    "            means[cluster][2] += im2[x][y][0]\n",
    "            means[cluster][3] += im2[x][y][1]\n",
    "            means[cluster][4] += im2[x][y][2]\n",
    "    new_means = np.zeros((k,4),dtype=np.int)\n",
    "    for i in range(k):\n",
    "        means[i] /= count[i]\n",
    "        new_means[i] = [100*int(means[i][0])+int(means[i][1]),means[i][2],means[i][3],means[i][4]]\n",
    "    return new_means"
   ]
  },
  {
   "cell_type": "code",
   "execution_count": 80,
   "metadata": {},
   "outputs": [],
   "source": [
    "def draw(res,image_number,iteration,k,method,cut):\n",
    "    if method == 0:\n",
    "        method = 'random'\n",
    "    else:\n",
    "        method = 'kmeans++'\n",
    "    plt.title(\"Spectral, {} means after {} iters, Image {}\\ninit method: {}, cut method: {}\".format(k,iteration,image_number,method,cut))\n",
    "    if image_number==1:\n",
    "        plt.imshow(im.astype('int'))\n",
    "    else:\n",
    "        plt.imshow(im2.astype('int'))\n",
    "    plt.imshow(res.reshape(100,100),alpha = 0.8)\n",
    "    plt.savefig('Spectral_{}means_image{}_{}_{}_{}iters.png'.format(k,image_number,cut,method,iteration))"
   ]
  },
  {
   "cell_type": "code",
   "execution_count": 76,
   "metadata": {},
   "outputs": [],
   "source": [
    "def k_means(k,U,image_number,cut_method):\n",
    "    print(\"k={}\".format(k))\n",
    "    iteration = np.zeros(2,dtype=np.int)\n",
    "    for i in range(2):\n",
    "        res_prev, means= init(i,k,image_number)\n",
    "        draw(res_prev,image_number,0,k,i,cut_method)\n",
    "        while(1):\n",
    "            iteration[i]+=1\n",
    "            diff = 0\n",
    "            res = classify(U,means,k,image_number)\n",
    "            new_means = update(res,k,image_number)\n",
    "            draw(res,image_number,iteration[i],k,i,cut_method)\n",
    "            for j in range(10000):\n",
    "                if res[j] != res_prev[j]:\n",
    "                    diff += 1\n",
    "            print('iteration: {}, diff: {}'.format(iteration[i],diff))\n",
    "            if diff <10 and iteration[i]!=1:\n",
    "                break\n",
    "            res_prev = res\n",
    "            means = new_means"
   ]
  },
  {
   "cell_type": "code",
   "execution_count": 9,
   "metadata": {},
   "outputs": [],
   "source": [
    "im = imageio.imread('image1.png').astype('float32')\n",
    "im2 = imageio.imread('image2.png').astype('float32')"
   ]
  },
  {
   "cell_type": "code",
   "execution_count": 9,
   "metadata": {},
   "outputs": [],
   "source": [
    "W1 = rbf_kernel(im,1)\n",
    "W2 = rbf_kernel(im2,2)"
   ]
  },
  {
   "cell_type": "code",
   "execution_count": 29,
   "metadata": {},
   "outputs": [],
   "source": [
    "D1 = np.diag(np.sum(W1,axis=1))\n",
    "D2 = np.diag(np.sum(W2,axis=1))\n",
    "L1 = D1-W1\n",
    "L2 = D2-W2\n",
    "eigen_values_1, eigen_vectors_1 = np.linalg.eig(L1)\n",
    "eigen_values_2, eigen_vectors_2 = np.linalg.eig(L2)\n",
    "eigen_vectors_1_sort = eigen_vectors_1[:,np.argsort(eigen_values_1)]\n",
    "eigen_vectors_2_sort = eigen_vectors_2[:,np.argsort(eigen_values_2)]"
   ]
  },
  {
   "cell_type": "code",
   "execution_count": 55,
   "metadata": {},
   "outputs": [],
   "source": [
    "U1 = (eigen_vectors_1_sort[:,:10])\n",
    "U2 = (eigen_vectors_2_sort[:,:10])"
   ]
  },
  {
   "cell_type": "code",
   "execution_count": 81,
   "metadata": {},
   "outputs": [
    {
     "name": "stdout",
     "output_type": "stream",
     "text": [
      "k=2\n",
      "Init method: random\n",
      "iteration: 1, diff: 0\n",
      "iteration: 2, diff: 418\n",
      "iteration: 3, diff: 156\n",
      "iteration: 4, diff: 55\n",
      "iteration: 5, diff: 30\n",
      "iteration: 6, diff: 0\n",
      "Init method: kmeans++\n",
      "iteration: 1, diff: 0\n",
      "iteration: 2, diff: 1069\n",
      "iteration: 3, diff: 479\n",
      "iteration: 4, diff: 376\n",
      "iteration: 5, diff: 437\n",
      "iteration: 6, diff: 163\n",
      "iteration: 7, diff: 58\n",
      "iteration: 8, diff: 30\n",
      "iteration: 9, diff: 0\n",
      "k=2\n",
      "Init method: random\n",
      "iteration: 1, diff: 0\n",
      "iteration: 2, diff: 978\n",
      "iteration: 3, diff: 475\n",
      "iteration: 4, diff: 196\n",
      "iteration: 5, diff: 108\n",
      "iteration: 6, diff: 60\n",
      "iteration: 7, diff: 26\n",
      "iteration: 8, diff: 18\n",
      "iteration: 9, diff: 5\n",
      "Init method: kmeans++\n",
      "iteration: 1, diff: 0\n",
      "iteration: 2, diff: 86\n",
      "iteration: 3, diff: 26\n",
      "iteration: 4, diff: 7\n",
      "k=3\n",
      "Init method: random\n",
      "iteration: 1, diff: 1\n",
      "iteration: 2, diff: 411\n",
      "iteration: 3, diff: 100\n",
      "iteration: 4, diff: 38\n",
      "iteration: 5, diff: 13\n",
      "iteration: 6, diff: 0\n",
      "Init method: kmeans++\n",
      "iteration: 1, diff: 0\n",
      "iteration: 2, diff: 1697\n",
      "iteration: 3, diff: 353\n",
      "iteration: 4, diff: 85\n",
      "iteration: 5, diff: 34\n",
      "iteration: 6, diff: 26\n",
      "iteration: 7, diff: 30\n",
      "iteration: 8, diff: 7\n",
      "k=3\n",
      "Init method: random\n",
      "iteration: 1, diff: 0\n",
      "iteration: 2, diff: 544\n",
      "iteration: 3, diff: 586\n",
      "iteration: 4, diff: 620\n",
      "iteration: 5, diff: 497\n",
      "iteration: 6, diff: 332\n",
      "iteration: 7, diff: 236\n",
      "iteration: 8, diff: 158\n",
      "iteration: 9, diff: 108\n",
      "iteration: 10, diff: 93\n",
      "iteration: 11, diff: 45\n",
      "iteration: 12, diff: 34\n",
      "iteration: 13, diff: 15\n",
      "iteration: 14, diff: 12\n",
      "iteration: 15, diff: 0\n",
      "Init method: kmeans++\n",
      "iteration: 1, diff: 0\n",
      "iteration: 2, diff: 721\n",
      "iteration: 3, diff: 231\n",
      "iteration: 4, diff: 137\n",
      "iteration: 5, diff: 77\n",
      "iteration: 6, diff: 65\n",
      "iteration: 7, diff: 29\n",
      "iteration: 8, diff: 40\n",
      "iteration: 9, diff: 27\n",
      "iteration: 10, diff: 15\n",
      "iteration: 11, diff: 10\n",
      "iteration: 12, diff: 24\n",
      "iteration: 13, diff: 0\n",
      "k=4\n",
      "Init method: random\n",
      "iteration: 1, diff: 0\n",
      "iteration: 2, diff: 512\n",
      "iteration: 3, diff: 244\n",
      "iteration: 4, diff: 174\n",
      "iteration: 5, diff: 329\n",
      "iteration: 6, diff: 543\n",
      "iteration: 7, diff: 561\n",
      "iteration: 8, diff: 341\n",
      "iteration: 9, diff: 241\n",
      "iteration: 10, diff: 203\n",
      "iteration: 11, diff: 177\n",
      "iteration: 12, diff: 120\n",
      "iteration: 13, diff: 105\n",
      "iteration: 14, diff: 61\n",
      "iteration: 15, diff: 38\n",
      "iteration: 16, diff: 32\n",
      "iteration: 17, diff: 20\n",
      "iteration: 18, diff: 16\n",
      "iteration: 19, diff: 18\n",
      "iteration: 20, diff: 0\n",
      "Init method: kmeans++\n",
      "iteration: 1, diff: 0\n",
      "iteration: 2, diff: 466\n",
      "iteration: 3, diff: 76\n",
      "iteration: 4, diff: 40\n",
      "iteration: 5, diff: 20\n",
      "iteration: 6, diff: 16\n",
      "iteration: 7, diff: 18\n",
      "iteration: 8, diff: 0\n",
      "k=4\n",
      "Init method: random\n",
      "iteration: 1, diff: 0\n",
      "iteration: 2, diff: 1153\n",
      "iteration: 3, diff: 759\n",
      "iteration: 4, diff: 635\n",
      "iteration: 5, diff: 488\n",
      "iteration: 6, diff: 384\n",
      "iteration: 7, diff: 336\n",
      "iteration: 8, diff: 278\n",
      "iteration: 9, diff: 227\n",
      "iteration: 10, diff: 216\n",
      "iteration: 11, diff: 177\n",
      "iteration: 12, diff: 180\n",
      "iteration: 13, diff: 108\n",
      "iteration: 14, diff: 123\n",
      "iteration: 15, diff: 103\n",
      "iteration: 16, diff: 83\n",
      "iteration: 17, diff: 68\n",
      "iteration: 18, diff: 78\n",
      "iteration: 19, diff: 81\n",
      "iteration: 20, diff: 63\n",
      "iteration: 21, diff: 54\n",
      "iteration: 22, diff: 38\n",
      "iteration: 23, diff: 60\n",
      "iteration: 24, diff: 5\n",
      "Init method: kmeans++\n",
      "iteration: 1, diff: 0\n",
      "iteration: 2, diff: 997\n",
      "iteration: 3, diff: 906\n",
      "iteration: 4, diff: 712\n",
      "iteration: 5, diff: 427\n",
      "iteration: 6, diff: 233\n",
      "iteration: 7, diff: 101\n",
      "iteration: 8, diff: 62\n",
      "iteration: 9, diff: 36\n",
      "iteration: 10, diff: 30\n",
      "iteration: 11, diff: 0\n"
     ]
    },
    {
     "data": {
      "image/png": "[encoded data removed]",
      "text/plain": [
       "<Figure size 432x288 with 1 Axes>"
      ]
     },
     "metadata": {
      "needs_background": "light"
     },
     "output_type": "display_data"
    }
   ],
   "source": [
    "for k in range(2,5):\n",
    "    U1 = (U1[:,:k+1])[:,1:]\n",
    "    U2 = (U2[:,:k+1])[:,1:]\n",
    "    k_means(k,U1,1,'ratio cut')\n",
    "    k_means(k,U2,2,'ratio cut')"
   ]
  },
  {
   "cell_type": "code",
   "execution_count": 65,
   "metadata": {},
   "outputs": [
    {
     "data": {
      "text/plain": [
       "array([3.66646400e-15, 4.52477205e-15, 4.04122120e-14, ...,\n",
       "       8.93353264e+01, 9.07205524e+01, 9.10904699e+01])"
      ]
     },
     "execution_count": 65,
     "metadata": {},
     "output_type": "execute_result"
    }
   ],
   "source": [
    "np.sort(eigen_values_1)"
   ]
  },
  {
   "cell_type": "code",
   "execution_count": 11,
   "metadata": {},
   "outputs": [],
   "source": [
    "D1_inv = np.linalg.inv(D1**0.5)\n",
    "D2_inv = np.linalg.inv(D2**0.5)\n",
    "L1_sym = np.dot(np.dot(D1_inv,L1),D1_inv)\n",
    "L2_sym = np.dot(np.dot(D2_inv,L2),D2_inv)\n",
    "eigen_values_normal_1, eigen_vectors_normal_1 = np.linalg.eig(L1_sym)\n",
    "eigen_values_normal_2, eigen_vectors_normal_2 = np.linalg.eig(L2_sym)"
   ]
  },
  {
   "cell_type": "code",
   "execution_count": 30,
   "metadata": {},
   "outputs": [],
   "source": [
    "eigen_vectors_normal_1_sort = eigen_vectors_normal_1[:,np.argsort(eigen_values_normal_1)]\n",
    "eigen_vectors_normal_2_sort = eigen_vectors_normal_2[:,np.argsort(eigen_values_normal_2)]"
   ]
  },
  {
   "cell_type": "code",
   "execution_count": 56,
   "metadata": {},
   "outputs": [],
   "source": [
    "U1_normal = (eigen_vectors_normal_1_sort[:,:10])\n",
    "U2_normal = (eigen_vectors_normal_2_sort[:,:10])"
   ]
  },
  {
   "cell_type": "code",
   "execution_count": 82,
   "metadata": {},
   "outputs": [
    {
     "name": "stdout",
     "output_type": "stream",
     "text": [
      "k=2\n",
      "Init method: random\n",
      "iteration: 1, diff: 0\n",
      "iteration: 2, diff: 1724\n",
      "iteration: 3, diff: 466\n",
      "iteration: 4, diff: 133\n",
      "iteration: 5, diff: 42\n",
      "iteration: 6, diff: 24\n",
      "iteration: 7, diff: 0\n",
      "Init method: kmeans++\n",
      "iteration: 1, diff: 0\n",
      "iteration: 2, diff: 366\n",
      "iteration: 3, diff: 77\n",
      "iteration: 4, diff: 24\n",
      "iteration: 5, diff: 10\n",
      "iteration: 6, diff: 0\n",
      "k=2\n",
      "Init method: random\n",
      "iteration: 1, diff: 0\n",
      "iteration: 2, diff: 716\n",
      "iteration: 3, diff: 355\n",
      "iteration: 4, diff: 176\n",
      "iteration: 5, diff: 85\n",
      "iteration: 6, diff: 44\n",
      "iteration: 7, diff: 27\n",
      "iteration: 8, diff: 6\n",
      "Init method: kmeans++\n",
      "iteration: 1, diff: 0\n",
      "iteration: 2, diff: 650\n",
      "iteration: 3, diff: 392\n",
      "iteration: 4, diff: 234\n",
      "iteration: 5, diff: 126\n",
      "iteration: 6, diff: 61\n",
      "iteration: 7, diff: 38\n",
      "iteration: 8, diff: 7\n",
      "k=3\n",
      "Init method: random\n",
      "iteration: 1, diff: 1\n",
      "iteration: 2, diff: 2959\n",
      "iteration: 3, diff: 1504\n",
      "iteration: 4, diff: 1141\n",
      "iteration: 5, diff: 678\n",
      "iteration: 6, diff: 397\n",
      "iteration: 7, diff: 203\n",
      "iteration: 8, diff: 82\n",
      "iteration: 9, diff: 32\n",
      "iteration: 10, diff: 7\n",
      "Init method: kmeans++\n",
      "iteration: 1, diff: 0\n",
      "iteration: 2, diff: 290\n",
      "iteration: 3, diff: 82\n",
      "iteration: 4, diff: 18\n",
      "iteration: 5, diff: 8\n",
      "k=3\n",
      "Init method: random\n",
      "iteration: 1, diff: 0\n",
      "iteration: 2, diff: 872\n",
      "iteration: 3, diff: 589\n",
      "iteration: 4, diff: 555\n",
      "iteration: 5, diff: 595\n",
      "iteration: 6, diff: 606\n",
      "iteration: 7, diff: 501\n",
      "iteration: 8, diff: 322\n",
      "iteration: 9, diff: 250\n",
      "iteration: 10, diff: 161\n",
      "iteration: 11, diff: 113\n",
      "iteration: 12, diff: 96\n",
      "iteration: 13, diff: 45\n",
      "iteration: 14, diff: 34\n",
      "iteration: 15, diff: 15\n",
      "iteration: 16, diff: 12\n",
      "iteration: 17, diff: 0\n",
      "Init method: kmeans++\n",
      "iteration: 1, diff: 1\n",
      "iteration: 2, diff: 536\n",
      "iteration: 3, diff: 183\n",
      "iteration: 4, diff: 149\n",
      "iteration: 5, diff: 91\n",
      "iteration: 6, diff: 72\n",
      "iteration: 7, diff: 29\n",
      "iteration: 8, diff: 34\n",
      "iteration: 9, diff: 15\n",
      "iteration: 10, diff: 12\n",
      "iteration: 11, diff: 0\n",
      "k=4\n",
      "Init method: random\n",
      "iteration: 1, diff: 0\n",
      "iteration: 2, diff: 2684\n",
      "iteration: 3, diff: 1003\n",
      "iteration: 4, diff: 475\n",
      "iteration: 5, diff: 267\n",
      "iteration: 6, diff: 184\n",
      "iteration: 7, diff: 162\n",
      "iteration: 8, diff: 118\n",
      "iteration: 9, diff: 97\n",
      "iteration: 10, diff: 60\n",
      "iteration: 11, diff: 45\n",
      "iteration: 12, diff: 29\n",
      "iteration: 13, diff: 16\n",
      "iteration: 14, diff: 18\n",
      "iteration: 15, diff: 0\n",
      "Init method: kmeans++\n",
      "iteration: 1, diff: 1\n",
      "iteration: 2, diff: 1839\n",
      "iteration: 3, diff: 1107\n",
      "iteration: 4, diff: 949\n",
      "iteration: 5, diff: 420\n",
      "iteration: 6, diff: 199\n",
      "iteration: 7, diff: 160\n",
      "iteration: 8, diff: 118\n",
      "iteration: 9, diff: 97\n",
      "iteration: 10, diff: 60\n",
      "iteration: 11, diff: 45\n",
      "iteration: 12, diff: 29\n",
      "iteration: 13, diff: 16\n",
      "iteration: 14, diff: 18\n",
      "iteration: 15, diff: 0\n",
      "k=4\n",
      "Init method: random\n",
      "iteration: 1, diff: 1\n",
      "iteration: 2, diff: 1420\n",
      "iteration: 3, diff: 489\n",
      "iteration: 4, diff: 318\n",
      "iteration: 5, diff: 240\n",
      "iteration: 6, diff: 170\n",
      "iteration: 7, diff: 107\n",
      "iteration: 8, diff: 89\n",
      "iteration: 9, diff: 54\n",
      "iteration: 10, diff: 28\n",
      "iteration: 11, diff: 63\n",
      "iteration: 12, diff: 44\n",
      "iteration: 13, diff: 28\n",
      "iteration: 14, diff: 15\n",
      "iteration: 15, diff: 0\n",
      "Init method: kmeans++\n",
      "iteration: 1, diff: 0\n",
      "iteration: 2, diff: 1280\n",
      "iteration: 3, diff: 525\n",
      "iteration: 4, diff: 273\n",
      "iteration: 5, diff: 113\n",
      "iteration: 6, diff: 76\n",
      "iteration: 7, diff: 3\n"
     ]
    },
    {
     "data": {
      "image/png": "[encoded data removed]",
      "text/plain": [
       "<Figure size 432x288 with 1 Axes>"
      ]
     },
     "metadata": {
      "needs_background": "light"
     },
     "output_type": "display_data"
    }
   ],
   "source": [
    "for k in range(2,5):\n",
    "    U1_normal = (U1_normal[:,:k+1])[:,1:]\n",
    "    U2_normal = (U2_normal[:,:k+1])[:,1:]\n",
    "    k_means(k,U1_normal,1,'normal cut')\n",
    "    k_means(k,U2_normal,2,'normal cut')"
   ]
  },
  {
   "cell_type": "code",
   "execution_count": 57,
   "metadata": {},
   "outputs": [],
   "source": [
    "np.savetxt(\"U1.csv\", U1, delimiter=\",\")\n",
    "np.savetxt(\"U2.csv\", U2, delimiter=\",\")\n",
    "np.savetxt(\"U1n.csv\", U1_normal, delimiter=\",\")\n",
    "np.savetxt(\"U2n.csv\", U2_normal, delimiter=\",\")"
   ]
  },
  {
   "cell_type": "code",
   "execution_count": 28,
   "metadata": {},
   "outputs": [
    {
     "data": {
      "text/plain": [
       "[<matplotlib.lines.Line2D at 0x116f20240>]"
      ]
     },
     "execution_count": 28,
     "metadata": {},
     "output_type": "execute_result"
    },
    {
     "data": {
      "image/png": "[encoded data removed]",
      "text/plain": [
       "<Figure size 432x288 with 1 Axes>"
      ]
     },
     "metadata": {
      "needs_background": "light"
     },
     "output_type": "display_data"
    }
   ],
   "source": [
    "plt.plot(U1[:10000,1],'b')"
   ]
  },
  {
   "cell_type": "code",
   "execution_count": 10,
   "metadata": {},
   "outputs": [],
   "source": [
    "import pandas as pd"
   ]
  },
  {
   "cell_type": "code",
   "execution_count": 15,
   "metadata": {},
   "outputs": [],
   "source": [
    "U1=np.array(pd.read_csv('U1.csv'))\n",
    "U2=np.array(pd.read_csv('U2.csv'))\n",
    "U1_normal=np.array(pd.read_csv('U1n.csv'))\n",
    "U2_normal=np.array(pd.read_csv('U2n.csv'))"
   ]
  },
  {
   "cell_type": "code",
   "execution_count": 29,
   "metadata": {},
   "outputs": [],
   "source": [
    "U1 = (U1[:,:3])[:,1:]\n",
    "U2 = (U2[:,:3])[:,1:]\n",
    "U1_normal = (U1_normal[:,:3])[:,1:]\n",
    "U2_normal = (U2_normal[:,:3])[:,1:]"
   ]
  },
  {
   "cell_type": "code",
   "execution_count": null,
   "metadata": {},
   "outputs": [],
   "source": []
  }
 ],
 "metadata": {
  "kernelspec": {
   "display_name": "Python 3",
   "language": "python",
   "name": "python3"
  },
  "language_info": {
   "codemirror_mode": {
    "name": "ipython",
    "version": 3
   },
   "file_extension": ".py",
   "mimetype": "text/x-python",
   "name": "python",
   "nbconvert_exporter": "python",
   "pygments_lexer": "ipython3",
   "version": "3.7.3"
  }
 },
 "nbformat": 4,
 "nbformat_minor": 2
}
