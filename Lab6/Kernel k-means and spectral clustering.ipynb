{
 "cells": [
  {
   "cell_type": "code",
   "execution_count": 7,
   "metadata": {},
   "outputs": [],
   "source": [
    "import imageio\n",
    "import numpy as np"
   ]
  },
  {
   "cell_type": "code",
   "execution_count": 9,
   "metadata": {},
   "outputs": [],
   "source": [
    "im = imageio.imread('image1.png')\n",
    "im2 = imageio.imread('image2.png')"
   ]
  },
  {
   "cell_type": "code",
   "execution_count": 10,
   "metadata": {},
   "outputs": [
    {
     "data": {
      "text/plain": [
       "Array([[[206, 204, 225],\n",
       "        [207, 209, 231],\n",
       "        [208, 214, 238],\n",
       "        ...,\n",
       "        [ 40,  46,  30],\n",
       "        [103, 104,  70],\n",
       "        [ 38,  32,  26]],\n",
       "\n",
       "       [[213, 211, 232],\n",
       "        [209, 214, 234],\n",
       "        [206, 217, 239],\n",
       "        ...,\n",
       "        [161, 171, 150],\n",
       "        [141, 143, 113],\n",
       "        [116, 126, 113]],\n",
       "\n",
       "       [[212, 215, 234],\n",
       "        [210, 216, 238],\n",
       "        [210, 221, 243],\n",
       "        ...,\n",
       "        [107, 105,  83],\n",
       "        [ 34,  43,  24],\n",
       "        [186, 203, 185]],\n",
       "\n",
       "       ...,\n",
       "\n",
       "       [[160, 147, 130],\n",
       "        [167, 156, 138],\n",
       "        [161, 149, 133],\n",
       "        ...,\n",
       "        [110, 119, 110],\n",
       "        [ 86,  91,  35],\n",
       "        [ 58,  65,   8]],\n",
       "\n",
       "       [[183, 172, 154],\n",
       "        [171, 159, 143],\n",
       "        [167, 155, 139],\n",
       "        ...,\n",
       "        [ 76,  78,  71],\n",
       "        [139, 145, 103],\n",
       "        [112, 129,  47]],\n",
       "\n",
       "       [[171, 160, 142],\n",
       "        [172, 161, 143],\n",
       "        [166, 157, 140],\n",
       "        ...,\n",
       "        [104, 115, 102],\n",
       "        [ 40,  44,   7],\n",
       "        [124, 134,  54]]], dtype=uint8)"
      ]
     },
     "execution_count": 10,
     "metadata": {},
     "output_type": "execute_result"
    }
   ],
   "source": [
    "im2"
   ]
  },
  {
   "cell_type": "code",
   "execution_count": null,
   "metadata": {},
   "outputs": [],
   "source": []
  }
 ],
 "metadata": {
  "kernelspec": {
   "display_name": "Python 3",
   "language": "python",
   "name": "python3"
  },
  "language_info": {
   "codemirror_mode": {
    "name": "ipython",
    "version": 3
   },
   "file_extension": ".py",
   "mimetype": "text/x-python",
   "name": "python",
   "nbconvert_exporter": "python",
   "pygments_lexer": "ipython3",
   "version": "3.7.3"
  }
 },
 "nbformat": 4,
 "nbformat_minor": 2
}
