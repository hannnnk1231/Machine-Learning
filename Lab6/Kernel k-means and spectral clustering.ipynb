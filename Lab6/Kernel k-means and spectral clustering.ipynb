{
 "cells": [
  {
   "cell_type": "code",
   "execution_count": 1,
   "metadata": {},
   "outputs": [],
   "source": [
    "import imageio\n",
    "import numpy as np"
   ]
  },
  {
   "cell_type": "code",
   "execution_count": 57,
   "metadata": {},
   "outputs": [],
   "source": [
    "def rbf_kernel(X):\n",
    "    sigma_s = -0.02\n",
    "    sigma_c = -0.02\n",
    "    W = np.zeros((10000,10000))\n",
    "    for i in range(10000):\n",
    "        x1 = i//100\n",
    "        y1 = i%100\n",
    "        for j in range(i+1,10000):\n",
    "            x2 = j//100\n",
    "            y2 = j%100\n",
    "            w = np.exp(sigma_s*((x1-x2)**2+(y1-y2)**2))*np.exp(sigma_c*(np.linalg.norm(im2[x1,y1]-im2[x2,y2])**2))\n",
    "            W[i,j] = W[j,i] = w\n",
    "    return W"
   ]
  },
  {
   "cell_type": "code",
   "execution_count": 37,
   "metadata": {},
   "outputs": [],
   "source": [
    "im = imageio.imread('image1.png').astype('float32')\n",
    "im2 = imageio.imread('image2.png').astype('float32')"
   ]
  },
  {
   "cell_type": "code",
   "execution_count": 38,
   "metadata": {},
   "outputs": [
    {
     "data": {
      "text/plain": [
       "Array([[[206., 204., 225.],\n",
       "        [207., 209., 231.],\n",
       "        [208., 214., 238.],\n",
       "        ...,\n",
       "        [ 40.,  46.,  30.],\n",
       "        [103., 104.,  70.],\n",
       "        [ 38.,  32.,  26.]],\n",
       "\n",
       "       [[213., 211., 232.],\n",
       "        [209., 214., 234.],\n",
       "        [206., 217., 239.],\n",
       "        ...,\n",
       "        [161., 171., 150.],\n",
       "        [141., 143., 113.],\n",
       "        [116., 126., 113.]],\n",
       "\n",
       "       [[212., 215., 234.],\n",
       "        [210., 216., 238.],\n",
       "        [210., 221., 243.],\n",
       "        ...,\n",
       "        [107., 105.,  83.],\n",
       "        [ 34.,  43.,  24.],\n",
       "        [186., 203., 185.]],\n",
       "\n",
       "       ...,\n",
       "\n",
       "       [[160., 147., 130.],\n",
       "        [167., 156., 138.],\n",
       "        [161., 149., 133.],\n",
       "        ...,\n",
       "        [110., 119., 110.],\n",
       "        [ 86.,  91.,  35.],\n",
       "        [ 58.,  65.,   8.]],\n",
       "\n",
       "       [[183., 172., 154.],\n",
       "        [171., 159., 143.],\n",
       "        [167., 155., 139.],\n",
       "        ...,\n",
       "        [ 76.,  78.,  71.],\n",
       "        [139., 145., 103.],\n",
       "        [112., 129.,  47.]],\n",
       "\n",
       "       [[171., 160., 142.],\n",
       "        [172., 161., 143.],\n",
       "        [166., 157., 140.],\n",
       "        ...,\n",
       "        [104., 115., 102.],\n",
       "        [ 40.,  44.,   7.],\n",
       "        [124., 134.,  54.]]], dtype=float32)"
      ]
     },
     "execution_count": 38,
     "metadata": {},
     "output_type": "execute_result"
    }
   ],
   "source": [
    "im2"
   ]
  },
  {
   "cell_type": "code",
   "execution_count": 58,
   "metadata": {},
   "outputs": [
    {
     "data": {
      "text/plain": [
       "array([[0.00000000e+000, 2.83654042e-001, 3.92652902e-003, ...,\n",
       "        0.00000000e+000, 0.00000000e+000, 0.00000000e+000],\n",
       "       [2.83654042e-001, 0.00000000e+000, 2.18711854e-001, ...,\n",
       "        0.00000000e+000, 0.00000000e+000, 0.00000000e+000],\n",
       "       [3.92652902e-003, 2.18711854e-001, 0.00000000e+000, ...,\n",
       "        0.00000000e+000, 0.00000000e+000, 0.00000000e+000],\n",
       "       ...,\n",
       "       [0.00000000e+000, 0.00000000e+000, 0.00000000e+000, ...,\n",
       "        0.00000000e+000, 1.73056346e-158, 2.20295092e-027],\n",
       "       [0.00000000e+000, 0.00000000e+000, 0.00000000e+000, ...,\n",
       "        1.73056346e-158, 0.00000000e+000, 1.44827233e-151],\n",
       "       [0.00000000e+000, 0.00000000e+000, 0.00000000e+000, ...,\n",
       "        2.20295092e-027, 1.44827233e-151, 0.00000000e+000]])"
      ]
     },
     "execution_count": 58,
     "metadata": {},
     "output_type": "execute_result"
    }
   ],
   "source": [
    "W1 = rbf_kernel(im)\n",
    "W1"
   ]
  },
  {
   "cell_type": "code",
   "execution_count": 59,
   "metadata": {},
   "outputs": [
    {
     "data": {
      "text/plain": [
       "array([[0.00000000e+000, 2.83654042e-001, 3.92652902e-003, ...,\n",
       "        0.00000000e+000, 0.00000000e+000, 0.00000000e+000],\n",
       "       [2.83654042e-001, 0.00000000e+000, 2.18711854e-001, ...,\n",
       "        0.00000000e+000, 0.00000000e+000, 0.00000000e+000],\n",
       "       [3.92652902e-003, 2.18711854e-001, 0.00000000e+000, ...,\n",
       "        0.00000000e+000, 0.00000000e+000, 0.00000000e+000],\n",
       "       ...,\n",
       "       [0.00000000e+000, 0.00000000e+000, 0.00000000e+000, ...,\n",
       "        0.00000000e+000, 1.73056346e-158, 2.20295092e-027],\n",
       "       [0.00000000e+000, 0.00000000e+000, 0.00000000e+000, ...,\n",
       "        1.73056346e-158, 0.00000000e+000, 1.44827233e-151],\n",
       "       [0.00000000e+000, 0.00000000e+000, 0.00000000e+000, ...,\n",
       "        2.20295092e-027, 1.44827233e-151, 0.00000000e+000]])"
      ]
     },
     "execution_count": 59,
     "metadata": {},
     "output_type": "execute_result"
    }
   ],
   "source": [
    "W2 = rbf_kernel(im2)\n",
    "W2"
   ]
  },
  {
   "cell_type": "code",
   "execution_count": 71,
   "metadata": {},
   "outputs": [
    {
     "data": {
      "text/plain": [
       "-392.04"
      ]
     },
     "execution_count": 71,
     "metadata": {},
     "output_type": "execute_result"
    }
   ],
   "source": [
    "-0.02*((0-99)**2+(0-99)**2)"
   ]
  },
  {
   "cell_type": "code",
   "execution_count": null,
   "metadata": {},
   "outputs": [],
   "source": []
  }
 ],
 "metadata": {
  "kernelspec": {
   "display_name": "Python 3",
   "language": "python",
   "name": "python3"
  },
  "language_info": {
   "codemirror_mode": {
    "name": "ipython",
    "version": 3
   },
   "file_extension": ".py",
   "mimetype": "text/x-python",
   "name": "python",
   "nbconvert_exporter": "python",
   "pygments_lexer": "ipython3",
   "version": "3.7.3"
  }
 },
 "nbformat": 4,
 "nbformat_minor": 2
}
