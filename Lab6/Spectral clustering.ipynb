{
 "cells": [
  {
   "cell_type": "code",
   "execution_count": 3,
   "metadata": {},
   "outputs": [],
   "source": [
    "import imageio\n",
    "import numpy as np\n",
    "import matplotlib.pyplot as plt"
   ]
  },
  {
   "cell_type": "code",
   "execution_count": 6,
   "metadata": {},
   "outputs": [],
   "source": [
    "def rbf_kernel(X,image_number):\n",
    "    sigma_s = -0.02\n",
    "    sigma_c = -0.02\n",
    "    W = np.zeros((10000,10000))\n",
    "    for i in range(10000):\n",
    "        x1 = i//100\n",
    "        y1 = i%100\n",
    "        for j in range(i+1,10000):\n",
    "            x2 = j//100\n",
    "            y2 = j%100\n",
    "            if image_number==1:\n",
    "                w = np.exp(sigma_s*((x1-x2)**2+(y1-y2)**2))*np.exp(sigma_c*(np.linalg.norm(im[x1,y1]-im[x2,y2])**2))\n",
    "            else:\n",
    "                w = np.exp(sigma_s*((x1-x2)**2+(y1-y2)**2))*np.exp(sigma_c*(np.linalg.norm(im2[x1,y1]-im2[x2,y2])**2))\n",
    "            W[i,j] = W[j,i] = w\n",
    "    return W"
   ]
  },
  {
   "cell_type": "code",
   "execution_count": null,
   "metadata": {},
   "outputs": [],
   "source": [
    "def init(method,k,image_number):\n",
    "    if method == 0:\n",
    "        print('Init method: random')\n",
    "        res = np.zeros(10000)\n",
    "        means = np.random.randint(10000,size=k)\n",
    "    else:\n",
    "        print('Init method: kmeans++')\n",
    "        res = np.zeros(10000)\n",
    "        means = np.zeros(k)\n",
    "        means[0] = np.random.randint(10000)\n",
    "        for i in range(1,k):\n",
    "            dist = np.zeros(10000)\n",
    "            for j in range(10000):\n",
    "                temp = np.zeros(i)\n",
    "                x = j//100\n",
    "                y = j%100\n",
    "                for p in range(i):\n",
    "                    xm = int(means[p]//100)\n",
    "                    ym = int(means[p]%100)\n",
    "                    if image_number==1:\n",
    "                        temp[p] = (xm-x)**2+(ym-y)**2+np.linalg.norm(im[xm,ym]-im[x,y])**2\n",
    "                    else:\n",
    "                        temp[p] = (xm-x)**2+(ym-y)**2+np.linalg.norm(im2[xm,ym]-im2[x,y])**2\n",
    "                dist[j] = np.min(temp)\n",
    "            dist = dist/dist.sum()\n",
    "            means[i] = np.random.choice(10000,1,p=dist)\n",
    "    \n",
    "    for i in range(10000):\n",
    "        temp = np.zeros(k)\n",
    "        x=i//100\n",
    "        y=i%100\n",
    "        for j in range(k):\n",
    "            xm = int(means[j]//100)\n",
    "            ym = int(means[j]%100)\n",
    "            if image_number==1:\n",
    "                temp[j] = (xm-x)**2+(ym-y)**2+np.linalg.norm(im[xm,ym]-im[x,y])**2\n",
    "            else:\n",
    "                temp[j] = (xm-x)**2+(ym-y)**2+np.linalg.norm(im2[xm,ym]-im2[x,y])**2\n",
    "        res[i] = np.argmin(temp)\n",
    "    return res, means"
   ]
  },
  {
   "cell_type": "code",
   "execution_count": null,
   "metadata": {},
   "outputs": [],
   "source": [
    "def classify(U,means,k,image_number):\n",
    "    res = np.zeros(10000)\n",
    "    for i in range(10000):\n",
    "        x=i//100\n",
    "        y=i%100\n",
    "        temp = np.zeros(k)\n",
    "        for j in range(k):\n",
    "            xm = int(means[j]//100)\n",
    "            ym = int(means[j]%100)\n",
    "            if image_number==1:\n",
    "                temp[j] = (xm-x)**2+(ym-y)**2+np.linalg.norm(im[xm,ym]-im[x,y])**2\n",
    "            else:\n",
    "                temp[j] = (xm-x)**2+(ym-y)**2+np.linalg.norm(im2[xm,ym]-im2[x,y])**2\n",
    "        res[i] = np.argmin(temp)\n",
    "    return res"
   ]
  },
  {
   "cell_type": "code",
   "execution_count": null,
   "metadata": {},
   "outputs": [],
   "source": [
    "def draw(res,image_number,iteration,k,method):\n",
    "    if method ==1:\n",
    "        method = 'random'\n",
    "    else:\n",
    "        method = 'kmeans++'\n",
    "    plt.title(\"Spectral, {} means after {} iters, Image {}\\ninit method: {}\".format(k,iteration,image_number,method))\n",
    "    if image_number==1:\n",
    "        plt.imshow(im.astype('int'))\n",
    "    else:\n",
    "        plt.imshow(im2.astype('int'))\n",
    "    plt.imshow(res.reshape(100,100),alpha = 0.8)\n",
    "    plt.savefig('Spectral_{}means_{}iters_image{}_{}.png'.format(k,iteration,image_number,method))"
   ]
  },
  {
   "cell_type": "code",
   "execution_count": null,
   "metadata": {},
   "outputs": [],
   "source": [
    "def k_means(k,U,image_number):\n",
    "    print(\"k={}\".format(k))\n",
    "    iteration = np.zeros(2,dtype=np.int)\n",
    "    for i in range(2):\n",
    "        means, res_prev = init(i,k,image_number)\n",
    "        draw(res_prev,image_number,0,k,i)\n",
    "        diff = prev_diff = 0\n",
    "        while(1):\n",
    "            iteration[i]+=1\n",
    "            res = classify(U,means,k,image_number)\n",
    "            draw(res,image_number,iteration[i],k,i)\n",
    "            for j in range(10000):\n",
    "                if res[j] != res_prev[j]:\n",
    "                    diff += 1\n",
    "            print('iteration: {}, diff: {}'.format(iteration[i],diff))\n",
    "            if diff == prev_diff:\n",
    "                break\n",
    "            res_prev = res\n",
    "            prev_diff = diff"
   ]
  },
  {
   "cell_type": "code",
   "execution_count": 7,
   "metadata": {},
   "outputs": [],
   "source": [
    "im = imageio.imread('image1.png').astype('float32')\n",
    "im2 = imageio.imread('image2.png').astype('float32')"
   ]
  },
  {
   "cell_type": "code",
   "execution_count": null,
   "metadata": {},
   "outputs": [],
   "source": [
    "W1 = rbf_kernel(im,1)\n",
    "W2 = rbf_kernel(im2,2)"
   ]
  },
  {
   "cell_type": "code",
   "execution_count": null,
   "metadata": {},
   "outputs": [],
   "source": [
    "D1 = np.diag(np.sum(W1,axis=1))\n",
    "D2 = np.diag(np.sum(W2,axis=1))\n",
    "L1 = D1-W1\n",
    "L2 = D2-W2\n",
    "eigen_values_1, eigen_vectors_1 = np.linalg.eig(L1)\n",
    "eigen_values_2, eigen_vectors_2 = np.linalg.eig(L2)"
   ]
  },
  {
   "cell_type": "code",
   "execution_count": null,
   "metadata": {},
   "outputs": [],
   "source": [
    "U1 = \n",
    "U2 = \n",
    "k_means(k,U1,1)\n",
    "k_means(k,U2,2)"
   ]
  },
  {
   "cell_type": "code",
   "execution_count": 2,
   "metadata": {},
   "outputs": [
    {
     "ename": "NameError",
     "evalue": "name 'eigen_values_1' is not defined",
     "output_type": "error",
     "traceback": [
      "\u001b[0;31m---------------------------------------------------------------------------\u001b[0m",
      "\u001b[0;31mNameError\u001b[0m                                 Traceback (most recent call last)",
      "\u001b[0;32m<ipython-input-2-76ad5176e663>\u001b[0m in \u001b[0;36m<module>\u001b[0;34m\u001b[0m\n\u001b[0;32m----> 1\u001b[0;31m \u001b[0meigen_values_1\u001b[0m\u001b[0;34m\u001b[0m\u001b[0;34m\u001b[0m\u001b[0m\n\u001b[0m",
      "\u001b[0;31mNameError\u001b[0m: name 'eigen_values_1' is not defined"
     ]
    }
   ],
   "source": [
    "eigen_values_1"
   ]
  },
  {
   "cell_type": "code",
   "execution_count": null,
   "metadata": {},
   "outputs": [],
   "source": [
    "D1_inv = np.linalg.inv(D1**0.5)\n",
    "D2_inv = np.linalg.inv(D2**0.5)\n",
    "L1_sym = np.dot(np.dot(D1_inv,L1),D1_inv)\n",
    "L2_sym = np.dot(np.dot(D2_inv,L2),D2_inv)\n",
    "eigen_values_normal_1, eigen_vectors_normal_1 = np.linalg.eig(L1_sym)\n",
    "eigen_values_normal_2, eigen_vectors_normal_2 = np.linalg.eig(L2_sym)"
   ]
  },
  {
   "cell_type": "code",
   "execution_count": null,
   "metadata": {},
   "outputs": [],
   "source": [
    "U1_normal = \n",
    "U2_normal = \n",
    "k_means(k,U1_normal,1)\n",
    "k_maens(k,U2_normal,2)"
   ]
  }
 ],
 "metadata": {
  "kernelspec": {
   "display_name": "Python 3",
   "language": "python",
   "name": "python3"
  },
  "language_info": {
   "codemirror_mode": {
    "name": "ipython",
    "version": 3
   },
   "file_extension": ".py",
   "mimetype": "text/x-python",
   "name": "python",
   "nbconvert_exporter": "python",
   "pygments_lexer": "ipython3",
   "version": "3.7.3"
  }
 },
 "nbformat": 4,
 "nbformat_minor": 2
}
