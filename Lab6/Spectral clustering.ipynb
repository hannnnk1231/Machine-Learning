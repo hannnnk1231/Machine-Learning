{
 "cells": [
  {
   "cell_type": "code",
   "execution_count": 2,
   "metadata": {},
   "outputs": [],
   "source": [
    "import imageio\n",
    "import numpy as np\n",
    "import matplotlib.pyplot as plt"
   ]
  },
  {
   "cell_type": "code",
   "execution_count": 3,
   "metadata": {},
   "outputs": [],
   "source": [
    "def rbf_kernel(X,image_number):\n",
    "    sigma_s = -0.02\n",
    "    sigma_c = -0.02\n",
    "    W = np.zeros((10000,10000))\n",
    "    for i in range(10000):\n",
    "        x1 = i//100\n",
    "        y1 = i%100\n",
    "        for j in range(i+1,10000):\n",
    "            x2 = j//100\n",
    "            y2 = j%100\n",
    "            if image_number==1:\n",
    "                w = np.exp(sigma_s*((x1-x2)**2+(y1-y2)**2))*np.exp(sigma_c*(np.linalg.norm(im[x1,y1]-im[x2,y2])**2))\n",
    "            else:\n",
    "                w = np.exp(sigma_s*((x1-x2)**2+(y1-y2)**2))*np.exp(sigma_c*(np.linalg.norm(im2[x1,y1]-im2[x2,y2])**2))\n",
    "            W[i,j] = W[j,i] = w\n",
    "    return W"
   ]
  },
  {
   "cell_type": "code",
   "execution_count": 185,
   "metadata": {},
   "outputs": [],
   "source": [
    "def init(U,method,k,image_number):\n",
    "    means = np.zeros((k,k))\n",
    "    if method == 0:\n",
    "        print('Init method: random')\n",
    "        temp = np.random.randint(10000,size=k)\n",
    "        for i in range(k):\n",
    "            means[i] = U[temp[i]]\n",
    "    else:\n",
    "        print('Init method: kmeans++')\n",
    "        temp = np.random.randint(10000)\n",
    "        means[0] = U[temp]\n",
    "        for i in range(1,k):\n",
    "            dist = np.zeros(10000)\n",
    "            for j in range(10000):\n",
    "                temp = np.zeros(i)\n",
    "                for p in range(i):\n",
    "                    temp[p] = np.linalg.norm(U[j]-means[p])\n",
    "                dist[j] = np.min(temp)\n",
    "            dist = dist/dist.sum()\n",
    "            temp = np.random.choice(10000,1,p=dist)\n",
    "            means[i,:] = U[temp,:]\n",
    "    return means"
   ]
  },
  {
   "cell_type": "code",
   "execution_count": 201,
   "metadata": {},
   "outputs": [],
   "source": [
    "def classify(U,means,k,image_number):\n",
    "    res = np.zeros(10000)\n",
    "    for i in range(10000):\n",
    "        temp = np.zeros(k)\n",
    "        for j in range(k):\n",
    "            temp[j] = np.linalg.norm(U[i]-means[j])\n",
    "        res[i] = np.argmin(temp)\n",
    "    return res"
   ]
  },
  {
   "cell_type": "code",
   "execution_count": 170,
   "metadata": {},
   "outputs": [],
   "source": [
    "def update(U,res,k,image_number):\n",
    "    means = np.zeros((k,k))\n",
    "    count = np.zeros(k)\n",
    "    for i in range(10000):\n",
    "        cluster = int(res[i])\n",
    "        count[cluster] += 1\n",
    "        means[cluster] += U[i]\n",
    "    for i in range(k):\n",
    "        means[i] /= count[i]\n",
    "    return means"
   ]
  },
  {
   "cell_type": "code",
   "execution_count": 80,
   "metadata": {},
   "outputs": [],
   "source": [
    "def draw(res,image_number,iteration,k,method,cut):\n",
    "    if method == 0:\n",
    "        method = 'random'\n",
    "    else:\n",
    "        method = 'kmeans++'\n",
    "    plt.title(\"Spectral, {} means after {} iters, Image {}\\ninit method: {}, cut method: {}\".format(k,iteration,image_number,method,cut))\n",
    "    if image_number==1:\n",
    "        plt.imshow(im.astype('int'))\n",
    "    else:\n",
    "        plt.imshow(im2.astype('int'))\n",
    "    plt.imshow(res.reshape(100,100),alpha = 0.8)\n",
    "    plt.savefig('Spectral_{}means_image{}_{}_{}_{}iters.png'.format(k,image_number,cut,method,iteration))"
   ]
  },
  {
   "cell_type": "code",
   "execution_count": 145,
   "metadata": {},
   "outputs": [],
   "source": [
    "def draw_eigenspace(U,res,k,image_number):\n",
    "    color = ['#bcbd22', '#17becf']\n",
    "    for i in range(k):\n",
    "        for j in range(10000):\n",
    "            if res[j]==i:\n",
    "                plt.scatter(U[j][0],U[j][1],c=color[i])\n",
    "    plt.savefig('Spectral Clustering EigenSpace_{}.png'.format(image_number))"
   ]
  },
  {
   "cell_type": "code",
   "execution_count": 203,
   "metadata": {},
   "outputs": [],
   "source": [
    "def k_means(k,U,image_number,cut_method):\n",
    "    print(\"k={}\".format(k))\n",
    "    iteration = np.zeros(2,dtype=np.int)\n",
    "    for i in range(1,2):\n",
    "        res_prev = np.random.randint(k,size=10000)\n",
    "        means= init(U,i,k,image_number)\n",
    "        while(1):\n",
    "            iteration[i]+=1\n",
    "            diff = 0\n",
    "            res = classify(U,means,k,image_number)\n",
    "            new_means = update(U,res,k,image_number)\n",
    "            #draw(res,image_number,iteration[i],k,i,cut_method)\n",
    "            for j in range(10000):\n",
    "                if res[j] != res_prev[j]:\n",
    "                    diff += 1\n",
    "            print('iteration: {}, diff: {}'.format(iteration[i],diff))\n",
    "            if diff <10 and iteration[i]!=1:\n",
    "                break\n",
    "            res_prev = res\n",
    "            means = new_means\n",
    "        if(k==2):\n",
    "            draw_eigenspace(U,res,k,image_number)"
   ]
  },
  {
   "cell_type": "code",
   "execution_count": 9,
   "metadata": {},
   "outputs": [],
   "source": [
    "im = imageio.imread('image1.png').astype('float32')\n",
    "im2 = imageio.imread('image2.png').astype('float32')"
   ]
  },
  {
   "cell_type": "code",
   "execution_count": 9,
   "metadata": {},
   "outputs": [],
   "source": [
    "W1 = rbf_kernel(im,1)\n",
    "W2 = rbf_kernel(im2,2)"
   ]
  },
  {
   "cell_type": "code",
   "execution_count": 29,
   "metadata": {},
   "outputs": [],
   "source": [
    "D1 = np.diag(np.sum(W1,axis=1))\n",
    "D2 = np.diag(np.sum(W2,axis=1))\n",
    "L1 = D1-W1\n",
    "L2 = D2-W2\n",
    "eigen_values_1, eigen_vectors_1 = np.linalg.eig(L1)\n",
    "eigen_values_2, eigen_vectors_2 = np.linalg.eig(L2)\n",
    "eigen_vectors_1_sort = eigen_vectors_1[:,np.argsort(eigen_values_1)]\n",
    "eigen_vectors_2_sort = eigen_vectors_2[:,np.argsort(eigen_values_2)]"
   ]
  },
  {
   "cell_type": "code",
   "execution_count": 55,
   "metadata": {},
   "outputs": [],
   "source": [
    "U1 = (eigen_vectors_1_sort[:,:10])\n",
    "U2 = (eigen_vectors_2_sort[:,:10])"
   ]
  },
  {
   "cell_type": "code",
   "execution_count": 207,
   "metadata": {},
   "outputs": [
    {
     "name": "stdout",
     "output_type": "stream",
     "text": [
      "k=2\n",
      "Init method: kmeans++\n",
      "iteration: 1, diff: 5075\n",
      "iteration: 2, diff: 24\n",
      "iteration: 3, diff: 0\n",
      "k=2\n",
      "Init method: kmeans++\n",
      "iteration: 1, diff: 5060\n",
      "iteration: 2, diff: 0\n"
     ]
    },
    {
     "data": {
      "image/png": "[encoded data removed]",
      "text/plain": [
       "<Figure size 432x288 with 1 Axes>"
      ]
     },
     "metadata": {
      "needs_background": "light"
     },
     "output_type": "display_data"
    }
   ],
   "source": [
    "for k in range(2,3):\n",
    "    U1_input = (U1[:,4:k+4])\n",
    "    U2_input = (U2[:,6:k+6])\n",
    "    k_means(k,U1_input,1,'ratio cut')\n",
    "    k_means(k,U2_input,2,'ratio cut')"
   ]
  },
  {
   "cell_type": "code",
   "execution_count": 65,
   "metadata": {},
   "outputs": [
    {
     "data": {
      "text/plain": [
       "array([3.66646400e-15, 4.52477205e-15, 4.04122120e-14, ...,\n",
       "       8.93353264e+01, 9.07205524e+01, 9.10904699e+01])"
      ]
     },
     "execution_count": 65,
     "metadata": {},
     "output_type": "execute_result"
    }
   ],
   "source": [
    "np.sort(eigen_values_1)"
   ]
  },
  {
   "cell_type": "code",
   "execution_count": 11,
   "metadata": {},
   "outputs": [],
   "source": [
    "D1_inv = np.linalg.inv(D1**0.5)\n",
    "D2_inv = np.linalg.inv(D2**0.5)\n",
    "L1_sym = np.dot(np.dot(D1_inv,L1),D1_inv)\n",
    "L2_sym = np.dot(np.dot(D2_inv,L2),D2_inv)\n",
    "eigen_values_normal_1, eigen_vectors_normal_1 = np.linalg.eig(L1_sym)\n",
    "eigen_values_normal_2, eigen_vectors_normal_2 = np.linalg.eig(L2_sym)"
   ]
  },
  {
   "cell_type": "code",
   "execution_count": 30,
   "metadata": {},
   "outputs": [],
   "source": [
    "eigen_vectors_normal_1_sort = eigen_vectors_normal_1[:,np.argsort(eigen_values_normal_1)]\n",
    "eigen_vectors_normal_2_sort = eigen_vectors_normal_2[:,np.argsort(eigen_values_normal_2)]"
   ]
  },
  {
   "cell_type": "code",
   "execution_count": 56,
   "metadata": {},
   "outputs": [],
   "source": [
    "U1_normal = (eigen_vectors_normal_1_sort[:,:10])\n",
    "U2_normal = (eigen_vectors_normal_2_sort[:,:10])"
   ]
  },
  {
   "cell_type": "code",
   "execution_count": 82,
   "metadata": {},
   "outputs": [
    {
     "name": "stdout",
     "output_type": "stream",
     "text": [
      "k=2\n",
      "Init method: random\n",
      "iteration: 1, diff: 0\n",
      "iteration: 2, diff: 1724\n",
      "iteration: 3, diff: 466\n",
      "iteration: 4, diff: 133\n",
      "iteration: 5, diff: 42\n",
      "iteration: 6, diff: 24\n",
      "iteration: 7, diff: 0\n",
      "Init method: kmeans++\n",
      "iteration: 1, diff: 0\n",
      "iteration: 2, diff: 366\n",
      "iteration: 3, diff: 77\n",
      "iteration: 4, diff: 24\n",
      "iteration: 5, diff: 10\n",
      "iteration: 6, diff: 0\n",
      "k=2\n",
      "Init method: random\n",
      "iteration: 1, diff: 0\n",
      "iteration: 2, diff: 716\n",
      "iteration: 3, diff: 355\n",
      "iteration: 4, diff: 176\n",
      "iteration: 5, diff: 85\n",
      "iteration: 6, diff: 44\n",
      "iteration: 7, diff: 27\n",
      "iteration: 8, diff: 6\n",
      "Init method: kmeans++\n",
      "iteration: 1, diff: 0\n",
      "iteration: 2, diff: 650\n",
      "iteration: 3, diff: 392\n",
      "iteration: 4, diff: 234\n",
      "iteration: 5, diff: 126\n",
      "iteration: 6, diff: 61\n",
      "iteration: 7, diff: 38\n",
      "iteration: 8, diff: 7\n",
      "k=3\n",
      "Init method: random\n",
      "iteration: 1, diff: 1\n",
      "iteration: 2, diff: 2959\n",
      "iteration: 3, diff: 1504\n",
      "iteration: 4, diff: 1141\n",
      "iteration: 5, diff: 678\n",
      "iteration: 6, diff: 397\n",
      "iteration: 7, diff: 203\n",
      "iteration: 8, diff: 82\n",
      "iteration: 9, diff: 32\n",
      "iteration: 10, diff: 7\n",
      "Init method: kmeans++\n",
      "iteration: 1, diff: 0\n",
      "iteration: 2, diff: 290\n",
      "iteration: 3, diff: 82\n",
      "iteration: 4, diff: 18\n",
      "iteration: 5, diff: 8\n",
      "k=3\n",
      "Init method: random\n",
      "iteration: 1, diff: 0\n",
      "iteration: 2, diff: 872\n",
      "iteration: 3, diff: 589\n",
      "iteration: 4, diff: 555\n",
      "iteration: 5, diff: 595\n",
      "iteration: 6, diff: 606\n",
      "iteration: 7, diff: 501\n",
      "iteration: 8, diff: 322\n",
      "iteration: 9, diff: 250\n",
      "iteration: 10, diff: 161\n",
      "iteration: 11, diff: 113\n",
      "iteration: 12, diff: 96\n",
      "iteration: 13, diff: 45\n",
      "iteration: 14, diff: 34\n",
      "iteration: 15, diff: 15\n",
      "iteration: 16, diff: 12\n",
      "iteration: 17, diff: 0\n",
      "Init method: kmeans++\n",
      "iteration: 1, diff: 1\n",
      "iteration: 2, diff: 536\n",
      "iteration: 3, diff: 183\n",
      "iteration: 4, diff: 149\n",
      "iteration: 5, diff: 91\n",
      "iteration: 6, diff: 72\n",
      "iteration: 7, diff: 29\n",
      "iteration: 8, diff: 34\n",
      "iteration: 9, diff: 15\n",
      "iteration: 10, diff: 12\n",
      "iteration: 11, diff: 0\n",
      "k=4\n",
      "Init method: random\n",
      "iteration: 1, diff: 0\n",
      "iteration: 2, diff: 2684\n",
      "iteration: 3, diff: 1003\n",
      "iteration: 4, diff: 475\n",
      "iteration: 5, diff: 267\n",
      "iteration: 6, diff: 184\n",
      "iteration: 7, diff: 162\n",
      "iteration: 8, diff: 118\n",
      "iteration: 9, diff: 97\n",
      "iteration: 10, diff: 60\n",
      "iteration: 11, diff: 45\n",
      "iteration: 12, diff: 29\n",
      "iteration: 13, diff: 16\n",
      "iteration: 14, diff: 18\n",
      "iteration: 15, diff: 0\n",
      "Init method: kmeans++\n",
      "iteration: 1, diff: 1\n",
      "iteration: 2, diff: 1839\n",
      "iteration: 3, diff: 1107\n",
      "iteration: 4, diff: 949\n",
      "iteration: 5, diff: 420\n",
      "iteration: 6, diff: 199\n",
      "iteration: 7, diff: 160\n",
      "iteration: 8, diff: 118\n",
      "iteration: 9, diff: 97\n",
      "iteration: 10, diff: 60\n",
      "iteration: 11, diff: 45\n",
      "iteration: 12, diff: 29\n",
      "iteration: 13, diff: 16\n",
      "iteration: 14, diff: 18\n",
      "iteration: 15, diff: 0\n",
      "k=4\n",
      "Init method: random\n",
      "iteration: 1, diff: 1\n",
      "iteration: 2, diff: 1420\n",
      "iteration: 3, diff: 489\n",
      "iteration: 4, diff: 318\n",
      "iteration: 5, diff: 240\n",
      "iteration: 6, diff: 170\n",
      "iteration: 7, diff: 107\n",
      "iteration: 8, diff: 89\n",
      "iteration: 9, diff: 54\n",
      "iteration: 10, diff: 28\n",
      "iteration: 11, diff: 63\n",
      "iteration: 12, diff: 44\n",
      "iteration: 13, diff: 28\n",
      "iteration: 14, diff: 15\n",
      "iteration: 15, diff: 0\n",
      "Init method: kmeans++\n",
      "iteration: 1, diff: 0\n",
      "iteration: 2, diff: 1280\n",
      "iteration: 3, diff: 525\n",
      "iteration: 4, diff: 273\n",
      "iteration: 5, diff: 113\n",
      "iteration: 6, diff: 76\n",
      "iteration: 7, diff: 3\n"
     ]
    },
    {
     "data": {
      "image/png": "[encoded data removed]",
      "text/plain": [
       "<Figure size 432x288 with 1 Axes>"
      ]
     },
     "metadata": {
      "needs_background": "light"
     },
     "output_type": "display_data"
    }
   ],
   "source": [
    "for k in range(2,5):\n",
    "    U1_normal = (U1_normal[:,:k+1])[:,4:]\n",
    "    U2_normal = (U2_normal[:,:k+1])[:,4:]\n",
    "    k_means(k,U1_normal,1,'normal cut')\n",
    "    k_means(k,U2_normal,2,'normal cut')"
   ]
  },
  {
   "cell_type": "code",
   "execution_count": 57,
   "metadata": {},
   "outputs": [],
   "source": [
    "np.savetxt(\"U1.csv\", U1, delimiter=\",\")\n",
    "np.savetxt(\"U2.csv\", U2, delimiter=\",\")\n",
    "np.savetxt(\"U1n.csv\", U1_normal, delimiter=\",\")\n",
    "np.savetxt(\"U2n.csv\", U2_normal, delimiter=\",\")"
   ]
  },
  {
   "cell_type": "code",
   "execution_count": 28,
   "metadata": {},
   "outputs": [
    {
     "data": {
      "text/plain": [
       "[<matplotlib.lines.Line2D at 0x116f20240>]"
      ]
     },
     "execution_count": 28,
     "metadata": {},
     "output_type": "execute_result"
    },
    {
     "data": {
      "image/png": "[encoded data removed]",
      "text/plain": [
       "<Figure size 432x288 with 1 Axes>"
      ]
     },
     "metadata": {
      "needs_background": "light"
     },
     "output_type": "display_data"
    }
   ],
   "source": [
    "plt.plot(U1[:10000,1],'b')"
   ]
  },
  {
   "cell_type": "code",
   "execution_count": 10,
   "metadata": {},
   "outputs": [],
   "source": [
    "import pandas as pd"
   ]
  },
  {
   "cell_type": "code",
   "execution_count": 144,
   "metadata": {},
   "outputs": [],
   "source": [
    "U1=np.array(pd.read_csv('U1.csv',header=None))\n",
    "U2=np.array(pd.read_csv('U2.csv',header=None))\n",
    "U1_normal=np.array(pd.read_csv('U1n.csv',header=None))\n",
    "U2_normal=np.array(pd.read_csv('U2n.csv',header=None))"
   ]
  },
  {
   "cell_type": "code",
   "execution_count": 94,
   "metadata": {},
   "outputs": [],
   "source": [
    "U1 = (U1[:,:3])[:,1:]\n",
    "U2 = (U2[:,:3])[:,1:]\n",
    "U1_normal = (U1_normal[:,:3])[:,1:]\n",
    "U2_normal = (U2_normal[:,:3])[:,1:]"
   ]
  },
  {
   "cell_type": "code",
   "execution_count": 143,
   "metadata": {},
   "outputs": [
    {
     "data": {
      "text/plain": [
       "(10000, 10)"
      ]
     },
     "execution_count": 143,
     "metadata": {},
     "output_type": "execute_result"
    }
   ],
   "source": [
    "U1.shape"
   ]
  },
  {
   "cell_type": "code",
   "execution_count": 163,
   "metadata": {},
   "outputs": [
    {
     "data": {
      "text/plain": [
       "array([[0., 0.],\n",
       "       [0., 0.]])"
      ]
     },
     "execution_count": 163,
     "metadata": {},
     "output_type": "execute_result"
    }
   ],
   "source": [
    "xx = np.zeros((2,2))\n",
    "xx"
   ]
  },
  {
   "cell_type": "code",
   "execution_count": 169,
   "metadata": {},
   "outputs": [
    {
     "data": {
      "text/plain": [
       "array([[2., 2.],\n",
       "       [0., 0.]])"
      ]
     },
     "execution_count": 169,
     "metadata": {},
     "output_type": "execute_result"
    }
   ],
   "source": [
    "xx[0] = a[1]\n",
    "xx"
   ]
  },
  {
   "cell_type": "code",
   "execution_count": 195,
   "metadata": {},
   "outputs": [],
   "source": [
    "a = [[3,3],[2,2]]"
   ]
  },
  {
   "cell_type": "code",
   "execution_count": 196,
   "metadata": {},
   "outputs": [
    {
     "data": {
      "text/plain": [
       "array([[2., 2.],\n",
       "       [0., 0.]])"
      ]
     },
     "execution_count": 196,
     "metadata": {},
     "output_type": "execute_result"
    }
   ],
   "source": [
    "xx"
   ]
  },
  {
   "cell_type": "code",
   "execution_count": 198,
   "metadata": {},
   "outputs": [
    {
     "data": {
      "text/plain": [
       "array([0.66666667, 0.66666667])"
      ]
     },
     "execution_count": 198,
     "metadata": {},
     "output_type": "execute_result"
    }
   ],
   "source": [
    "xx[0] / a[0]"
   ]
  },
  {
   "cell_type": "code",
   "execution_count": null,
   "metadata": {},
   "outputs": [],
   "source": []
  }
 ],
 "metadata": {
  "kernelspec": {
   "display_name": "Python 3",
   "language": "python",
   "name": "python3"
  },
  "language_info": {
   "codemirror_mode": {
    "name": "ipython",
    "version": 3
   },
   "file_extension": ".py",
   "mimetype": "text/x-python",
   "name": "python",
   "nbconvert_exporter": "python",
   "pygments_lexer": "ipython3",
   "version": "3.7.3"
  }
 },
 "nbformat": 4,
 "nbformat_minor": 2
}
