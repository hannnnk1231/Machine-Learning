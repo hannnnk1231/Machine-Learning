{
 "cells": [
  {
   "cell_type": "code",
   "execution_count": 1,
   "metadata": {},
   "outputs": [],
   "source": [
    "import numpy as np\n",
    "import pandas as pd\n",
    "import matplotlib.pyplot as plt\n",
    "import sys\n",
    "sys.path.append(\"/usr/local/lib/python3.6/site-packages/libsvm/\")\n",
    "from svmutil import *"
   ]
  },
  {
   "cell_type": "code",
   "execution_count": 19,
   "metadata": {},
   "outputs": [],
   "source": [
    "X_train = pd.read_csv('X_train.csv',header=None).values\n",
    "Y_train = pd.read_csv('Y_train.csv',header=None).values.reshape(-1)\n",
    "X_test = pd.read_csv('X_test.csv',header=None).values\n",
    "Y_test = pd.read_csv('Y_test.csv',header=None).values.reshape(-1)"
   ]
  },
  {
   "cell_type": "code",
   "execution_count": 35,
   "metadata": {},
   "outputs": [
    {
     "name": "stdout",
     "output_type": "stream",
     "text": [
      "Kernel: linear\n",
      "Accuracy = 95.08% (2377/2500) (classification)\n",
      "Kernel: polynomial\n",
      "Accuracy = 34.68% (867/2500) (classification)\n",
      "Kernel: RBF\n",
      "Accuracy = 95.32% (2383/2500) (classification)\n"
     ]
    }
   ],
   "source": [
    "kernels = ['linear','polynomial','RBF']\n",
    "for i in range(3):\n",
    "    print('Kernel: '+kernels[i])\n",
    "    params = '-t '+ str(i)\n",
    "    model = svm_train(Y_train,X_train,params)\n",
    "    svm_predict(Y_test,X_test, model)"
   ]
  },
  {
   "cell_type": "code",
   "execution_count": null,
   "metadata": {},
   "outputs": [],
   "source": []
  }
 ],
 "metadata": {
  "kernelspec": {
   "display_name": "Python 3",
   "language": "python",
   "name": "python3"
  },
  "language_info": {
   "codemirror_mode": {
    "name": "ipython",
    "version": 3
   },
   "file_extension": ".py",
   "mimetype": "text/x-python",
   "name": "python",
   "nbconvert_exporter": "python",
   "pygments_lexer": "ipython3",
   "version": "3.7.3"
  }
 },
 "nbformat": 4,
 "nbformat_minor": 2
}
