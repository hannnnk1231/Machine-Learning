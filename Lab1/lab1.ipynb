{
 "cells": [
  {
   "cell_type": "code",
   "execution_count": 1,
   "metadata": {},
   "outputs": [],
   "source": [
    "import csv\n",
    "import matplotlib.pyplot as plt\n",
    "import numpy as np"
   ]
  },
  {
   "cell_type": "code",
   "execution_count": 2,
   "metadata": {},
   "outputs": [],
   "source": [
    "def add(A,B):\n",
    "    assert A.shape[0]==B.shape[0]\n",
    "    assert A.shape[1]==B.shape[1]\n",
    "    res=np.zeros((A.shape[0],A.shape[1]))\n",
    "    for i in range(A.shape[0]):\n",
    "        for j in range(B.shape[0]):\n",
    "            res[i,j]=A[i,j]+B[i,j]\n",
    "    return res"
   ]
  },
  {
   "cell_type": "code",
   "execution_count": 3,
   "metadata": {},
   "outputs": [],
   "source": [
    "def transpose(A):\n",
    "    res=np.array([[0. for j in range(A.shape[0])] for i in range(A.shape[1])])\n",
    "    for j in range(A.shape[1]):\n",
    "        res[j]=A[:,j]\n",
    "    return res"
   ]
  },
  {
   "cell_type": "code",
   "execution_count": 4,
   "metadata": {},
   "outputs": [],
   "source": [
    "def dot(A,B):\n",
    "    assert A.shape[1]==B.shape[0]\n",
    "    res=np.array([[0. for j in range(B.shape[1])] for i in range(A.shape[0])])\n",
    "    for i in range(A.shape[0]):\n",
    "        row_A=A[i,:]\n",
    "        for j in range(B.shape[1]):\n",
    "            column_B=B[:,j]\n",
    "            res[i,j]=sum(row_A*column_B)\n",
    "    return res"
   ]
  },
  {
   "cell_type": "code",
   "execution_count": 5,
   "metadata": {},
   "outputs": [],
   "source": [
    "def swap(A,v_1,v_2):\n",
    "    A[[v_1,v_2]]=A[[v_2,v_1]]\n",
    "    return A"
   ]
  },
  {
   "cell_type": "code",
   "execution_count": 6,
   "metadata": {},
   "outputs": [],
   "source": [
    "def inverse(A):\n",
    "    p=A.shape[0]\n",
    "    I=np.identity(p)\n",
    "    for i in range(p):\n",
    "        if(A[i,i]!=1):\n",
    "            temp=A[i,i]\n",
    "            A[i]/=temp\n",
    "            I[i]/=temp\n",
    "        for j in range(p):\n",
    "            if(A[j,i]!=0 and j!=i):\n",
    "                temp=A[j,i]\n",
    "                A[j]-=A[i]*temp\n",
    "                I[j]-=I[i]*temp\n",
    "    return I"
   ]
  },
  {
   "cell_type": "code",
   "execution_count": 7,
   "metadata": {},
   "outputs": [],
   "source": [
    "def LU_decomposition(A):\n",
    "    L=np.identity(A.shape[0])\n",
    "    U=np.zeros((A.shape[0],A.shape[1]))\n",
    "    U[0]=A[0]\n",
    "    for i in range(1,A.shape[0]):\n",
    "        for j in range(A.shape[1]):\n",
    "            if(j<i):\n",
    "                L[i,j]=A[i,j]\n",
    "                for k in range(j):\n",
    "                    L[i,j]-=U[k,j]*L[i,k]\n",
    "                L[i,j]/=U[j,j]\n",
    "            else:\n",
    "                U[i,j]=A[i,j]\n",
    "                for k in range(i):\n",
    "                    U[i,j]-=U[k,j]*L[i,k]\n",
    "    return L,U"
   ]
  },
  {
   "cell_type": "code",
   "execution_count": 160,
   "metadata": {},
   "outputs": [],
   "source": [
    "def find_inverse(A):\n",
    "    L,U=LU_decomposition(A)\n",
    "    return dot(inverse(U),inverse(L))  # A=LU, A^(-1)=U^(-1)*L^(-1)"
   ]
  },
  {
   "cell_type": "code",
   "execution_count": 9,
   "metadata": {},
   "outputs": [],
   "source": [
    "def matrix_norm(A):\n",
    "    temp=0.\n",
    "    for i in range(A.shape[0]):\n",
    "        for j in range(A.shape[1]):\n",
    "            temp+=A[i,j]**2\n",
    "    return temp"
   ]
  },
  {
   "cell_type": "code",
   "execution_count": 10,
   "metadata": {},
   "outputs": [],
   "source": [
    "def f(x,coef):\n",
    "    res=0\n",
    "    degree=coef.shape[0]-1\n",
    "    for i in range(degree+1):\n",
    "        res+=(x**(degree-i))*coef[i]\n",
    "    return res"
   ]
  },
  {
   "cell_type": "code",
   "execution_count": 11,
   "metadata": {},
   "outputs": [],
   "source": [
    "def read_file(file_path):\n",
    "    x=np.array([[]])\n",
    "    y=np.array([[]])\n",
    "    with open(file_path) as f:\n",
    "        rows=csv.reader(f)\n",
    "        for row in rows:\n",
    "            x=np.append(x,[[float(row[0])]],axis=1)\n",
    "            y=np.append(y,[[float(row[1])]],axis=1)\n",
    "    return x,y"
   ]
  },
  {
   "cell_type": "code",
   "execution_count": 12,
   "metadata": {},
   "outputs": [],
   "source": [
    "def print_result(A,x,b):\n",
    "    res='Fitting line: '\n",
    "    if(len(x)!=1):\n",
    "        res+=str(x[0,0])+'X^'+str(len(x)-1)\n",
    "        for i in range(1,len(x)-1):\n",
    "            if(x[i,0]>=0):\n",
    "                res+=' + '\n",
    "            else:\n",
    "                res+=' - '\n",
    "            res+=str(abs(x[i,0]))+'X^'+str(len(x)-i-1)\n",
    "    if(x[-1,0]>=0):\n",
    "        res+=' + '\n",
    "    else:\n",
    "        res+=' - '\n",
    "    res+=str(abs(x[-1,0]))\n",
    "    print(res)\n",
    "    print('Total error: ', matrix_norm(dot(A,x)-b))\n",
    "    "
   ]
  },
  {
   "cell_type": "code",
   "execution_count": 296,
   "metadata": {},
   "outputs": [
    {
     "name": "stdout",
     "output_type": "stream",
     "text": [
      "Please give the path of the test file: testfile.txt\n"
     ]
    }
   ],
   "source": [
    "file_path=input('Please give the path of the test file: ')"
   ]
  },
  {
   "cell_type": "code",
   "execution_count": 304,
   "metadata": {},
   "outputs": [
    {
     "name": "stdout",
     "output_type": "stream",
     "text": [
      "Please assign the number of polynomial bases n:5\n",
      "Please assign lambda: 1\n"
     ]
    }
   ],
   "source": [
    "N=int(input('Please assign the number of polynomial bases n:'))\n",
    "lambda_LSE=float(input('Please assign lambda: '))"
   ]
  },
  {
   "cell_type": "code",
   "execution_count": 305,
   "metadata": {},
   "outputs": [],
   "source": [
    "# LSE/rLSE\n",
    "\n",
    "x,y=read_file(file_path)\n",
    "b=transpose(y)\n",
    "design_matrix=np.array([[x[0,i]**h for h in range(N-1,-1,-1)] for i in range(x.shape[1])])\n",
    "design_matrix_T=transpose(design_matrix)\n",
    "lambda_I = np.identity(N)*float(lambda_LSE)\n",
    "coef_X_LSE=dot(find_inverse(add(dot(design_matrix_T,design_matrix),lambda_I)),dot(design_matrix_T,b))"
   ]
  },
  {
   "cell_type": "code",
   "execution_count": 306,
   "metadata": {},
   "outputs": [],
   "source": [
    "# Newton's method\n",
    "coef_X_Newton=dot(find_inverse(dot(design_matrix_T,design_matrix)),dot(design_matrix_T,b))"
   ]
  },
  {
   "cell_type": "code",
   "execution_count": 307,
   "metadata": {},
   "outputs": [
    {
     "name": "stdout",
     "output_type": "stream",
     "text": [
      "LSE:\n",
      "Fitting line: -0.00410291176583083X^4 + 0.12960894038205079X^3 + 3.122603867602649X^2 + 1.8264923091182221X^1 + 0.2835841892382973\n",
      "Total error:  8.699314472397743\n",
      "\n",
      "Newton's method:\n",
      "Fitting line: 0.0X^4 - 0.08984375X^3 + 3.0X^2 + 7.25X^1 - 32.0\n",
      "Total error:  4228.071920698741\n"
     ]
    }
   ],
   "source": [
    "print('LSE:')\n",
    "print_result(design_matrix,coef_X_LSE,b)\n",
    "print('')\n",
    "print('Newton\\'s method:')\n",
    "print_result(design_matrix,coef_X_Newton,b)"
   ]
  },
  {
   "cell_type": "code",
   "execution_count": 308,
   "metadata": {},
   "outputs": [
    {
     "data": {
      "image/png": "[encoded data removed]",
      "text/plain": [
       "<matplotlib.figure.Figure at 0x7efbaa361ac8>"
      ]
     },
     "metadata": {
      "needs_background": "light"
     },
     "output_type": "display_data"
    }
   ],
   "source": [
    "t=np.arange(-6,6,0.001)\n",
    "plt.subplot(2,1,1)\n",
    "plt.plot(x,y,'ro')\n",
    "plt.plot(t,f(t,coef_X_LSE),'b')\n",
    "\n",
    "plt.subplot(2,1,2)\n",
    "plt.plot(x,y,'ro')\n",
    "plt.plot(t,f(t,coef_X_Newton),'b')\n",
    "\n",
    "plt.show()"
   ]
  },
  {
   "cell_type": "code",
   "execution_count": 309,
   "metadata": {},
   "outputs": [],
   "source": [
    "res=[x[0,i] for i in range(x.shape[1])]\n",
    "res2=[y[0,i] for i in range(y.shape[1])]"
   ]
  },
  {
   "cell_type": "code",
   "execution_count": 311,
   "metadata": {},
   "outputs": [
    {
     "name": "stderr",
     "output_type": "stream",
     "text": [
      "/usr/local/lib/python3.6/dist-packages/IPython/core/interactiveshell.py:3326: RankWarning: Polyfit may be poorly conditioned\n",
      "  exec(code_obj, self.user_global_ns, self.user_ns)\n"
     ]
    },
    {
     "data": {
      "text/plain": [
       "array([ 0.0472358 , -0.08563021,  0.98401879,  6.94307603, 21.65281241])"
      ]
     },
     "execution_count": 311,
     "metadata": {},
     "output_type": "execute_result"
    }
   ],
   "source": [
    "ff=np.polyfit(res,res2,4)\n",
    "ff"
   ]
  },
  {
   "cell_type": "code",
   "execution_count": 312,
   "metadata": {},
   "outputs": [
    {
     "data": {
      "image/png": "[encoded data removed]",
      "text/plain": [
       "<matplotlib.figure.Figure at 0x7efbaa202b00>"
      ]
     },
     "metadata": {
      "needs_background": "light"
     },
     "output_type": "display_data"
    }
   ],
   "source": [
    "plt.plot(x,y,'ro')\n",
    "plt.plot(t,f(t,ff),'b')\n",
    "\n",
    "plt.show()"
   ]
  }
 ],
 "metadata": {
  "kernelspec": {
   "display_name": "Python 3",
   "language": "python",
   "name": "python3"
  },
  "language_info": {
   "codemirror_mode": {
    "name": "ipython",
    "version": 3
   },
   "file_extension": ".py",
   "mimetype": "text/x-python",
   "name": "python",
   "nbconvert_exporter": "python",
   "pygments_lexer": "ipython3",
   "version": "3.6.8"
  }
 },
 "nbformat": 4,
 "nbformat_minor": 2
}
